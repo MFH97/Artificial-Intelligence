{
  "nbformat": 4,
  "nbformat_minor": 0,
  "metadata": {
    "colab": {
      "provenance": [],
      "authorship_tag": "ABX9TyOHSAjEQ4SDZ3JaYoUHWTbI",
      "include_colab_link": true
    },
    "kernelspec": {
      "name": "python3",
      "display_name": "Python 3"
    },
    "language_info": {
      "name": "python"
    }
  },
  "cells": [
    {
      "cell_type": "markdown",
      "metadata": {
        "id": "view-in-github",
        "colab_type": "text"
      },
      "source": [
        "<a href=\"https://colab.research.google.com/github/MFH97/Artificial-Intelligence/blob/main/Compare_4_models.ipynb\" target=\"_parent\"><img src=\"https://colab.research.google.com/assets/colab-badge.svg\" alt=\"Open In Colab\"/></a>"
      ]
    },
    {
      "cell_type": "markdown",
      "source": [
        "#ML Analysis 🤖\n",
        "\n",
        "**Biomechanical features of orthopedic patients**"
      ],
      "metadata": {
        "id": "MOmZKm_SGCQn"
      }
    },
    {
      "cell_type": "markdown",
      "source": [
        "Based on the dataset description, we're working with biomechanical features (like pelvic incidence, lumbar lordosis angle, etc.) likely predicting a spinal condition classification (e.g., Normal vs. Abnormal). Here are the best modeling approaches:\n",
        "\n",
        "**Classification Models** (If Target is Categorical: 'Normal'/'Abnormal')\n",
        "*  Logistic Regression (Interpretable)\n",
        "*  Random Forest (Robust to Outliers)\n",
        "* Gradient Boosting (XGBoost)\n",
        "* Support Vector Machine (SVM)\n",
        "\n",
        "Dataset: https://www.kaggle.com/datasets/displaynamenow/column-2c-wekacsv"
      ],
      "metadata": {
        "id": "0fy4gkHZna4V"
      }
    },
    {
      "cell_type": "markdown",
      "source": [
        "# Key observations from our data\n",
        "\n",
        "1. Feature Scaling Needed:\n",
        "\n",
        " * Features like pelvic_incidence (mean=310) and pelvic_radius (mean=117) have very different scales.\n",
        "\n",
        "* **Always scale** for **logistic regression/SVM** (StandardScaler).\n",
        "\n",
        "2. Potential Outliers:\n",
        "\n",
        " * Some features (e.g., degree_spondylolisthesis) have extreme max values (418.54 vs 75th percentile=11.76).\n",
        "\n",
        "* Use **RobustScaler** or tree-based models (Random Forest/XGBoost) to handle outliers.\n",
        "\n",
        "3. Feature Selection:\n",
        "\n",
        "  * L1-regularized logistic regression can identify the most important biomechanical features."
      ],
      "metadata": {
        "id": "TkRM27KKn-RM"
      }
    },
    {
      "cell_type": "code",
      "source": [
        "import pandas as pd\n",
        "# Read the data\n",
        "data = pd.read_csv(\"column_2C_weka.csv\")\n",
        "\n",
        "\n",
        "\n",
        "# Check available plot styles\n",
        "##print(plt.style.available)  # Fixed from 'variable' to 'available'\n",
        "#plt.style.use('ggplot')"
      ],
      "metadata": {
        "id": "N13-uyOuqWer"
      },
      "execution_count": null,
      "outputs": []
    },
    {
      "cell_type": "code",
      "source": [
        "#To see features and target variables\n",
        "data.head()"
      ],
      "metadata": {
        "colab": {
          "base_uri": "https://localhost:8080/",
          "height": 206
        },
        "id": "rOI4Dey-qZPr",
        "outputId": "d32e1746-1f1f-4262-8444-f3b3a50afa81"
      },
      "execution_count": null,
      "outputs": [
        {
          "output_type": "execute_result",
          "data": {
            "text/plain": [
              "   pelvic_incidence  pelvic_tilt numeric  lumbar_lordosis_angle  sacral_slope  \\\n",
              "0         63.027817            22.552586              39.609117     40.475232   \n",
              "1         39.056951            10.060991              25.015378     28.995960   \n",
              "2         68.832021            22.218482              50.092194     46.613539   \n",
              "3         69.297008            24.652878              44.311238     44.644130   \n",
              "4         49.712859             9.652075              28.317406     40.060784   \n",
              "\n",
              "   pelvic_radius  degree_spondylolisthesis     class  \n",
              "0      98.672917                 -0.254400  Abnormal  \n",
              "1     114.405425                  4.564259  Abnormal  \n",
              "2     105.985135                 -3.530317  Abnormal  \n",
              "3     101.868495                 11.211523  Abnormal  \n",
              "4     108.168725                  7.918501  Abnormal  "
            ],
            "text/html": [
              "\n",
              "  <div id=\"df-89d67b77-66e4-4d09-bb7d-701b43a15e52\" class=\"colab-df-container\">\n",
              "    <div>\n",
              "<style scoped>\n",
              "    .dataframe tbody tr th:only-of-type {\n",
              "        vertical-align: middle;\n",
              "    }\n",
              "\n",
              "    .dataframe tbody tr th {\n",
              "        vertical-align: top;\n",
              "    }\n",
              "\n",
              "    .dataframe thead th {\n",
              "        text-align: right;\n",
              "    }\n",
              "</style>\n",
              "<table border=\"1\" class=\"dataframe\">\n",
              "  <thead>\n",
              "    <tr style=\"text-align: right;\">\n",
              "      <th></th>\n",
              "      <th>pelvic_incidence</th>\n",
              "      <th>pelvic_tilt numeric</th>\n",
              "      <th>lumbar_lordosis_angle</th>\n",
              "      <th>sacral_slope</th>\n",
              "      <th>pelvic_radius</th>\n",
              "      <th>degree_spondylolisthesis</th>\n",
              "      <th>class</th>\n",
              "    </tr>\n",
              "  </thead>\n",
              "  <tbody>\n",
              "    <tr>\n",
              "      <th>0</th>\n",
              "      <td>63.027817</td>\n",
              "      <td>22.552586</td>\n",
              "      <td>39.609117</td>\n",
              "      <td>40.475232</td>\n",
              "      <td>98.672917</td>\n",
              "      <td>-0.254400</td>\n",
              "      <td>Abnormal</td>\n",
              "    </tr>\n",
              "    <tr>\n",
              "      <th>1</th>\n",
              "      <td>39.056951</td>\n",
              "      <td>10.060991</td>\n",
              "      <td>25.015378</td>\n",
              "      <td>28.995960</td>\n",
              "      <td>114.405425</td>\n",
              "      <td>4.564259</td>\n",
              "      <td>Abnormal</td>\n",
              "    </tr>\n",
              "    <tr>\n",
              "      <th>2</th>\n",
              "      <td>68.832021</td>\n",
              "      <td>22.218482</td>\n",
              "      <td>50.092194</td>\n",
              "      <td>46.613539</td>\n",
              "      <td>105.985135</td>\n",
              "      <td>-3.530317</td>\n",
              "      <td>Abnormal</td>\n",
              "    </tr>\n",
              "    <tr>\n",
              "      <th>3</th>\n",
              "      <td>69.297008</td>\n",
              "      <td>24.652878</td>\n",
              "      <td>44.311238</td>\n",
              "      <td>44.644130</td>\n",
              "      <td>101.868495</td>\n",
              "      <td>11.211523</td>\n",
              "      <td>Abnormal</td>\n",
              "    </tr>\n",
              "    <tr>\n",
              "      <th>4</th>\n",
              "      <td>49.712859</td>\n",
              "      <td>9.652075</td>\n",
              "      <td>28.317406</td>\n",
              "      <td>40.060784</td>\n",
              "      <td>108.168725</td>\n",
              "      <td>7.918501</td>\n",
              "      <td>Abnormal</td>\n",
              "    </tr>\n",
              "  </tbody>\n",
              "</table>\n",
              "</div>\n",
              "    <div class=\"colab-df-buttons\">\n",
              "\n",
              "  <div class=\"colab-df-container\">\n",
              "    <button class=\"colab-df-convert\" onclick=\"convertToInteractive('df-89d67b77-66e4-4d09-bb7d-701b43a15e52')\"\n",
              "            title=\"Convert this dataframe to an interactive table.\"\n",
              "            style=\"display:none;\">\n",
              "\n",
              "  <svg xmlns=\"http://www.w3.org/2000/svg\" height=\"24px\" viewBox=\"0 -960 960 960\">\n",
              "    <path d=\"M120-120v-720h720v720H120Zm60-500h600v-160H180v160Zm220 220h160v-160H400v160Zm0 220h160v-160H400v160ZM180-400h160v-160H180v160Zm440 0h160v-160H620v160ZM180-180h160v-160H180v160Zm440 0h160v-160H620v160Z\"/>\n",
              "  </svg>\n",
              "    </button>\n",
              "\n",
              "  <style>\n",
              "    .colab-df-container {\n",
              "      display:flex;\n",
              "      gap: 12px;\n",
              "    }\n",
              "\n",
              "    .colab-df-convert {\n",
              "      background-color: #E8F0FE;\n",
              "      border: none;\n",
              "      border-radius: 50%;\n",
              "      cursor: pointer;\n",
              "      display: none;\n",
              "      fill: #1967D2;\n",
              "      height: 32px;\n",
              "      padding: 0 0 0 0;\n",
              "      width: 32px;\n",
              "    }\n",
              "\n",
              "    .colab-df-convert:hover {\n",
              "      background-color: #E2EBFA;\n",
              "      box-shadow: 0px 1px 2px rgba(60, 64, 67, 0.3), 0px 1px 3px 1px rgba(60, 64, 67, 0.15);\n",
              "      fill: #174EA6;\n",
              "    }\n",
              "\n",
              "    .colab-df-buttons div {\n",
              "      margin-bottom: 4px;\n",
              "    }\n",
              "\n",
              "    [theme=dark] .colab-df-convert {\n",
              "      background-color: #3B4455;\n",
              "      fill: #D2E3FC;\n",
              "    }\n",
              "\n",
              "    [theme=dark] .colab-df-convert:hover {\n",
              "      background-color: #434B5C;\n",
              "      box-shadow: 0px 1px 3px 1px rgba(0, 0, 0, 0.15);\n",
              "      filter: drop-shadow(0px 1px 2px rgba(0, 0, 0, 0.3));\n",
              "      fill: #FFFFFF;\n",
              "    }\n",
              "  </style>\n",
              "\n",
              "    <script>\n",
              "      const buttonEl =\n",
              "        document.querySelector('#df-89d67b77-66e4-4d09-bb7d-701b43a15e52 button.colab-df-convert');\n",
              "      buttonEl.style.display =\n",
              "        google.colab.kernel.accessAllowed ? 'block' : 'none';\n",
              "\n",
              "      async function convertToInteractive(key) {\n",
              "        const element = document.querySelector('#df-89d67b77-66e4-4d09-bb7d-701b43a15e52');\n",
              "        const dataTable =\n",
              "          await google.colab.kernel.invokeFunction('convertToInteractive',\n",
              "                                                    [key], {});\n",
              "        if (!dataTable) return;\n",
              "\n",
              "        const docLinkHtml = 'Like what you see? Visit the ' +\n",
              "          '<a target=\"_blank\" href=https://colab.research.google.com/notebooks/data_table.ipynb>data table notebook</a>'\n",
              "          + ' to learn more about interactive tables.';\n",
              "        element.innerHTML = '';\n",
              "        dataTable['output_type'] = 'display_data';\n",
              "        await google.colab.output.renderOutput(dataTable, element);\n",
              "        const docLink = document.createElement('div');\n",
              "        docLink.innerHTML = docLinkHtml;\n",
              "        element.appendChild(docLink);\n",
              "      }\n",
              "    </script>\n",
              "  </div>\n",
              "\n",
              "\n",
              "    <div id=\"df-eafa862d-c8d4-4d1f-b2a2-2ceb2245f325\">\n",
              "      <button class=\"colab-df-quickchart\" onclick=\"quickchart('df-eafa862d-c8d4-4d1f-b2a2-2ceb2245f325')\"\n",
              "                title=\"Suggest charts\"\n",
              "                style=\"display:none;\">\n",
              "\n",
              "<svg xmlns=\"http://www.w3.org/2000/svg\" height=\"24px\"viewBox=\"0 0 24 24\"\n",
              "     width=\"24px\">\n",
              "    <g>\n",
              "        <path d=\"M19 3H5c-1.1 0-2 .9-2 2v14c0 1.1.9 2 2 2h14c1.1 0 2-.9 2-2V5c0-1.1-.9-2-2-2zM9 17H7v-7h2v7zm4 0h-2V7h2v10zm4 0h-2v-4h2v4z\"/>\n",
              "    </g>\n",
              "</svg>\n",
              "      </button>\n",
              "\n",
              "<style>\n",
              "  .colab-df-quickchart {\n",
              "      --bg-color: #E8F0FE;\n",
              "      --fill-color: #1967D2;\n",
              "      --hover-bg-color: #E2EBFA;\n",
              "      --hover-fill-color: #174EA6;\n",
              "      --disabled-fill-color: #AAA;\n",
              "      --disabled-bg-color: #DDD;\n",
              "  }\n",
              "\n",
              "  [theme=dark] .colab-df-quickchart {\n",
              "      --bg-color: #3B4455;\n",
              "      --fill-color: #D2E3FC;\n",
              "      --hover-bg-color: #434B5C;\n",
              "      --hover-fill-color: #FFFFFF;\n",
              "      --disabled-bg-color: #3B4455;\n",
              "      --disabled-fill-color: #666;\n",
              "  }\n",
              "\n",
              "  .colab-df-quickchart {\n",
              "    background-color: var(--bg-color);\n",
              "    border: none;\n",
              "    border-radius: 50%;\n",
              "    cursor: pointer;\n",
              "    display: none;\n",
              "    fill: var(--fill-color);\n",
              "    height: 32px;\n",
              "    padding: 0;\n",
              "    width: 32px;\n",
              "  }\n",
              "\n",
              "  .colab-df-quickchart:hover {\n",
              "    background-color: var(--hover-bg-color);\n",
              "    box-shadow: 0 1px 2px rgba(60, 64, 67, 0.3), 0 1px 3px 1px rgba(60, 64, 67, 0.15);\n",
              "    fill: var(--button-hover-fill-color);\n",
              "  }\n",
              "\n",
              "  .colab-df-quickchart-complete:disabled,\n",
              "  .colab-df-quickchart-complete:disabled:hover {\n",
              "    background-color: var(--disabled-bg-color);\n",
              "    fill: var(--disabled-fill-color);\n",
              "    box-shadow: none;\n",
              "  }\n",
              "\n",
              "  .colab-df-spinner {\n",
              "    border: 2px solid var(--fill-color);\n",
              "    border-color: transparent;\n",
              "    border-bottom-color: var(--fill-color);\n",
              "    animation:\n",
              "      spin 1s steps(1) infinite;\n",
              "  }\n",
              "\n",
              "  @keyframes spin {\n",
              "    0% {\n",
              "      border-color: transparent;\n",
              "      border-bottom-color: var(--fill-color);\n",
              "      border-left-color: var(--fill-color);\n",
              "    }\n",
              "    20% {\n",
              "      border-color: transparent;\n",
              "      border-left-color: var(--fill-color);\n",
              "      border-top-color: var(--fill-color);\n",
              "    }\n",
              "    30% {\n",
              "      border-color: transparent;\n",
              "      border-left-color: var(--fill-color);\n",
              "      border-top-color: var(--fill-color);\n",
              "      border-right-color: var(--fill-color);\n",
              "    }\n",
              "    40% {\n",
              "      border-color: transparent;\n",
              "      border-right-color: var(--fill-color);\n",
              "      border-top-color: var(--fill-color);\n",
              "    }\n",
              "    60% {\n",
              "      border-color: transparent;\n",
              "      border-right-color: var(--fill-color);\n",
              "    }\n",
              "    80% {\n",
              "      border-color: transparent;\n",
              "      border-right-color: var(--fill-color);\n",
              "      border-bottom-color: var(--fill-color);\n",
              "    }\n",
              "    90% {\n",
              "      border-color: transparent;\n",
              "      border-bottom-color: var(--fill-color);\n",
              "    }\n",
              "  }\n",
              "</style>\n",
              "\n",
              "      <script>\n",
              "        async function quickchart(key) {\n",
              "          const quickchartButtonEl =\n",
              "            document.querySelector('#' + key + ' button');\n",
              "          quickchartButtonEl.disabled = true;  // To prevent multiple clicks.\n",
              "          quickchartButtonEl.classList.add('colab-df-spinner');\n",
              "          try {\n",
              "            const charts = await google.colab.kernel.invokeFunction(\n",
              "                'suggestCharts', [key], {});\n",
              "          } catch (error) {\n",
              "            console.error('Error during call to suggestCharts:', error);\n",
              "          }\n",
              "          quickchartButtonEl.classList.remove('colab-df-spinner');\n",
              "          quickchartButtonEl.classList.add('colab-df-quickchart-complete');\n",
              "        }\n",
              "        (() => {\n",
              "          let quickchartButtonEl =\n",
              "            document.querySelector('#df-eafa862d-c8d4-4d1f-b2a2-2ceb2245f325 button');\n",
              "          quickchartButtonEl.style.display =\n",
              "            google.colab.kernel.accessAllowed ? 'block' : 'none';\n",
              "        })();\n",
              "      </script>\n",
              "    </div>\n",
              "\n",
              "    </div>\n",
              "  </div>\n"
            ],
            "application/vnd.google.colaboratory.intrinsic+json": {
              "type": "dataframe",
              "variable_name": "data",
              "summary": "{\n  \"name\": \"data\",\n  \"rows\": 310,\n  \"fields\": [\n    {\n      \"column\": \"pelvic_incidence\",\n      \"properties\": {\n        \"dtype\": \"number\",\n        \"std\": 17.236520321708856,\n        \"min\": 26.14792141,\n        \"max\": 129.8340406,\n        \"num_unique_values\": 310,\n        \"samples\": [\n          44.43070103,\n          36.68635286,\n          46.85578065\n        ],\n        \"semantic_type\": \"\",\n        \"description\": \"\"\n      }\n    },\n    {\n      \"column\": \"pelvic_tilt numeric\",\n      \"properties\": {\n        \"dtype\": \"number\",\n        \"std\": 10.00833025820636,\n        \"min\": -6.554948347,\n        \"max\": 49.4318636,\n        \"num_unique_values\": 310,\n        \"samples\": [\n          14.17426387,\n          5.010884121,\n          15.35151393\n        ],\n        \"semantic_type\": \"\",\n        \"description\": \"\"\n      }\n    },\n    {\n      \"column\": \"lumbar_lordosis_angle\",\n      \"properties\": {\n        \"dtype\": \"number\",\n        \"std\": 18.554063962761177,\n        \"min\": 14.0,\n        \"max\": 125.7423855,\n        \"num_unique_values\": 280,\n        \"samples\": [\n          46.56025198,\n          48.49999999,\n          53.73007172\n        ],\n        \"semantic_type\": \"\",\n        \"description\": \"\"\n      }\n    },\n    {\n      \"column\": \"sacral_slope\",\n      \"properties\": {\n        \"dtype\": \"number\",\n        \"std\": 13.423102164839566,\n        \"min\": 13.3669307,\n        \"max\": 121.4295656,\n        \"num_unique_values\": 281,\n        \"samples\": [\n          27.59729587,\n          43.15238973,\n          42.43622979\n        ],\n        \"semantic_type\": \"\",\n        \"description\": \"\"\n      }\n    },\n    {\n      \"column\": \"pelvic_radius\",\n      \"properties\": {\n        \"dtype\": \"number\",\n        \"std\": 13.31737704490457,\n        \"min\": 70.08257486,\n        \"max\": 163.0710405,\n        \"num_unique_values\": 310,\n        \"samples\": [\n          131.7176127,\n          84.24141517,\n          116.2509174\n        ],\n        \"semantic_type\": \"\",\n        \"description\": \"\"\n      }\n    },\n    {\n      \"column\": \"degree_spondylolisthesis\",\n      \"properties\": {\n        \"dtype\": \"number\",\n        \"std\": 37.55902655487237,\n        \"min\": -11.05817866,\n        \"max\": 418.5430821,\n        \"num_unique_values\": 310,\n        \"samples\": [\n          -3.604255336,\n          0.664437117,\n          1.662705589\n        ],\n        \"semantic_type\": \"\",\n        \"description\": \"\"\n      }\n    },\n    {\n      \"column\": \"class\",\n      \"properties\": {\n        \"dtype\": \"category\",\n        \"num_unique_values\": 2,\n        \"samples\": [\n          \"Normal\",\n          \"Abnormal\"\n        ],\n        \"semantic_type\": \"\",\n        \"description\": \"\"\n      }\n    }\n  ]\n}"
            }
          },
          "metadata": {},
          "execution_count": 5
        }
      ]
    },
    {
      "cell_type": "code",
      "source": [
        "# Well know question is is there any NaN value and length of this data so lets look at info\n",
        "data.info()"
      ],
      "metadata": {
        "colab": {
          "base_uri": "https://localhost:8080/"
        },
        "id": "i4K2Xc6xqa0L",
        "outputId": "f483bfa7-58c2-4af4-c55d-3fff8cd04816"
      },
      "execution_count": null,
      "outputs": [
        {
          "output_type": "stream",
          "name": "stdout",
          "text": [
            "<class 'pandas.core.frame.DataFrame'>\n",
            "RangeIndex: 310 entries, 0 to 309\n",
            "Data columns (total 7 columns):\n",
            " #   Column                    Non-Null Count  Dtype  \n",
            "---  ------                    --------------  -----  \n",
            " 0   pelvic_incidence          310 non-null    float64\n",
            " 1   pelvic_tilt numeric       310 non-null    float64\n",
            " 2   lumbar_lordosis_angle     310 non-null    float64\n",
            " 3   sacral_slope              310 non-null    float64\n",
            " 4   pelvic_radius             310 non-null    float64\n",
            " 5   degree_spondylolisthesis  310 non-null    float64\n",
            " 6   class                     310 non-null    object \n",
            "dtypes: float64(6), object(1)\n",
            "memory usage: 17.1+ KB\n"
          ]
        }
      ]
    },
    {
      "cell_type": "code",
      "source": [
        "data.describe()"
      ],
      "metadata": {
        "colab": {
          "base_uri": "https://localhost:8080/",
          "height": 301
        },
        "id": "9llzDfZhqe47",
        "outputId": "805a3597-a8fc-4b82-f851-783b78cc21ee"
      },
      "execution_count": null,
      "outputs": [
        {
          "output_type": "execute_result",
          "data": {
            "text/plain": [
              "       pelvic_incidence  pelvic_tilt numeric  lumbar_lordosis_angle  \\\n",
              "count        310.000000           310.000000             310.000000   \n",
              "mean          60.496653            17.542822              51.930930   \n",
              "std           17.236520            10.008330              18.554064   \n",
              "min           26.147921            -6.554948              14.000000   \n",
              "25%           46.430294            10.667069              37.000000   \n",
              "50%           58.691038            16.357689              49.562398   \n",
              "75%           72.877696            22.120395              63.000000   \n",
              "max          129.834041            49.431864             125.742385   \n",
              "\n",
              "       sacral_slope  pelvic_radius  degree_spondylolisthesis  \n",
              "count    310.000000     310.000000                310.000000  \n",
              "mean      42.953831     117.920655                 26.296694  \n",
              "std       13.423102      13.317377                 37.559027  \n",
              "min       13.366931      70.082575                -11.058179  \n",
              "25%       33.347122     110.709196                  1.603727  \n",
              "50%       42.404912     118.268178                 11.767934  \n",
              "75%       52.695888     125.467674                 41.287352  \n",
              "max      121.429566     163.071041                418.543082  "
            ],
            "text/html": [
              "\n",
              "  <div id=\"df-d6cdd822-4257-4599-8516-0d0ba14319c2\" class=\"colab-df-container\">\n",
              "    <div>\n",
              "<style scoped>\n",
              "    .dataframe tbody tr th:only-of-type {\n",
              "        vertical-align: middle;\n",
              "    }\n",
              "\n",
              "    .dataframe tbody tr th {\n",
              "        vertical-align: top;\n",
              "    }\n",
              "\n",
              "    .dataframe thead th {\n",
              "        text-align: right;\n",
              "    }\n",
              "</style>\n",
              "<table border=\"1\" class=\"dataframe\">\n",
              "  <thead>\n",
              "    <tr style=\"text-align: right;\">\n",
              "      <th></th>\n",
              "      <th>pelvic_incidence</th>\n",
              "      <th>pelvic_tilt numeric</th>\n",
              "      <th>lumbar_lordosis_angle</th>\n",
              "      <th>sacral_slope</th>\n",
              "      <th>pelvic_radius</th>\n",
              "      <th>degree_spondylolisthesis</th>\n",
              "    </tr>\n",
              "  </thead>\n",
              "  <tbody>\n",
              "    <tr>\n",
              "      <th>count</th>\n",
              "      <td>310.000000</td>\n",
              "      <td>310.000000</td>\n",
              "      <td>310.000000</td>\n",
              "      <td>310.000000</td>\n",
              "      <td>310.000000</td>\n",
              "      <td>310.000000</td>\n",
              "    </tr>\n",
              "    <tr>\n",
              "      <th>mean</th>\n",
              "      <td>60.496653</td>\n",
              "      <td>17.542822</td>\n",
              "      <td>51.930930</td>\n",
              "      <td>42.953831</td>\n",
              "      <td>117.920655</td>\n",
              "      <td>26.296694</td>\n",
              "    </tr>\n",
              "    <tr>\n",
              "      <th>std</th>\n",
              "      <td>17.236520</td>\n",
              "      <td>10.008330</td>\n",
              "      <td>18.554064</td>\n",
              "      <td>13.423102</td>\n",
              "      <td>13.317377</td>\n",
              "      <td>37.559027</td>\n",
              "    </tr>\n",
              "    <tr>\n",
              "      <th>min</th>\n",
              "      <td>26.147921</td>\n",
              "      <td>-6.554948</td>\n",
              "      <td>14.000000</td>\n",
              "      <td>13.366931</td>\n",
              "      <td>70.082575</td>\n",
              "      <td>-11.058179</td>\n",
              "    </tr>\n",
              "    <tr>\n",
              "      <th>25%</th>\n",
              "      <td>46.430294</td>\n",
              "      <td>10.667069</td>\n",
              "      <td>37.000000</td>\n",
              "      <td>33.347122</td>\n",
              "      <td>110.709196</td>\n",
              "      <td>1.603727</td>\n",
              "    </tr>\n",
              "    <tr>\n",
              "      <th>50%</th>\n",
              "      <td>58.691038</td>\n",
              "      <td>16.357689</td>\n",
              "      <td>49.562398</td>\n",
              "      <td>42.404912</td>\n",
              "      <td>118.268178</td>\n",
              "      <td>11.767934</td>\n",
              "    </tr>\n",
              "    <tr>\n",
              "      <th>75%</th>\n",
              "      <td>72.877696</td>\n",
              "      <td>22.120395</td>\n",
              "      <td>63.000000</td>\n",
              "      <td>52.695888</td>\n",
              "      <td>125.467674</td>\n",
              "      <td>41.287352</td>\n",
              "    </tr>\n",
              "    <tr>\n",
              "      <th>max</th>\n",
              "      <td>129.834041</td>\n",
              "      <td>49.431864</td>\n",
              "      <td>125.742385</td>\n",
              "      <td>121.429566</td>\n",
              "      <td>163.071041</td>\n",
              "      <td>418.543082</td>\n",
              "    </tr>\n",
              "  </tbody>\n",
              "</table>\n",
              "</div>\n",
              "    <div class=\"colab-df-buttons\">\n",
              "\n",
              "  <div class=\"colab-df-container\">\n",
              "    <button class=\"colab-df-convert\" onclick=\"convertToInteractive('df-d6cdd822-4257-4599-8516-0d0ba14319c2')\"\n",
              "            title=\"Convert this dataframe to an interactive table.\"\n",
              "            style=\"display:none;\">\n",
              "\n",
              "  <svg xmlns=\"http://www.w3.org/2000/svg\" height=\"24px\" viewBox=\"0 -960 960 960\">\n",
              "    <path d=\"M120-120v-720h720v720H120Zm60-500h600v-160H180v160Zm220 220h160v-160H400v160Zm0 220h160v-160H400v160ZM180-400h160v-160H180v160Zm440 0h160v-160H620v160ZM180-180h160v-160H180v160Zm440 0h160v-160H620v160Z\"/>\n",
              "  </svg>\n",
              "    </button>\n",
              "\n",
              "  <style>\n",
              "    .colab-df-container {\n",
              "      display:flex;\n",
              "      gap: 12px;\n",
              "    }\n",
              "\n",
              "    .colab-df-convert {\n",
              "      background-color: #E8F0FE;\n",
              "      border: none;\n",
              "      border-radius: 50%;\n",
              "      cursor: pointer;\n",
              "      display: none;\n",
              "      fill: #1967D2;\n",
              "      height: 32px;\n",
              "      padding: 0 0 0 0;\n",
              "      width: 32px;\n",
              "    }\n",
              "\n",
              "    .colab-df-convert:hover {\n",
              "      background-color: #E2EBFA;\n",
              "      box-shadow: 0px 1px 2px rgba(60, 64, 67, 0.3), 0px 1px 3px 1px rgba(60, 64, 67, 0.15);\n",
              "      fill: #174EA6;\n",
              "    }\n",
              "\n",
              "    .colab-df-buttons div {\n",
              "      margin-bottom: 4px;\n",
              "    }\n",
              "\n",
              "    [theme=dark] .colab-df-convert {\n",
              "      background-color: #3B4455;\n",
              "      fill: #D2E3FC;\n",
              "    }\n",
              "\n",
              "    [theme=dark] .colab-df-convert:hover {\n",
              "      background-color: #434B5C;\n",
              "      box-shadow: 0px 1px 3px 1px rgba(0, 0, 0, 0.15);\n",
              "      filter: drop-shadow(0px 1px 2px rgba(0, 0, 0, 0.3));\n",
              "      fill: #FFFFFF;\n",
              "    }\n",
              "  </style>\n",
              "\n",
              "    <script>\n",
              "      const buttonEl =\n",
              "        document.querySelector('#df-d6cdd822-4257-4599-8516-0d0ba14319c2 button.colab-df-convert');\n",
              "      buttonEl.style.display =\n",
              "        google.colab.kernel.accessAllowed ? 'block' : 'none';\n",
              "\n",
              "      async function convertToInteractive(key) {\n",
              "        const element = document.querySelector('#df-d6cdd822-4257-4599-8516-0d0ba14319c2');\n",
              "        const dataTable =\n",
              "          await google.colab.kernel.invokeFunction('convertToInteractive',\n",
              "                                                    [key], {});\n",
              "        if (!dataTable) return;\n",
              "\n",
              "        const docLinkHtml = 'Like what you see? Visit the ' +\n",
              "          '<a target=\"_blank\" href=https://colab.research.google.com/notebooks/data_table.ipynb>data table notebook</a>'\n",
              "          + ' to learn more about interactive tables.';\n",
              "        element.innerHTML = '';\n",
              "        dataTable['output_type'] = 'display_data';\n",
              "        await google.colab.output.renderOutput(dataTable, element);\n",
              "        const docLink = document.createElement('div');\n",
              "        docLink.innerHTML = docLinkHtml;\n",
              "        element.appendChild(docLink);\n",
              "      }\n",
              "    </script>\n",
              "  </div>\n",
              "\n",
              "\n",
              "    <div id=\"df-f243584e-6689-4b12-9dfe-c3e66f9a2395\">\n",
              "      <button class=\"colab-df-quickchart\" onclick=\"quickchart('df-f243584e-6689-4b12-9dfe-c3e66f9a2395')\"\n",
              "                title=\"Suggest charts\"\n",
              "                style=\"display:none;\">\n",
              "\n",
              "<svg xmlns=\"http://www.w3.org/2000/svg\" height=\"24px\"viewBox=\"0 0 24 24\"\n",
              "     width=\"24px\">\n",
              "    <g>\n",
              "        <path d=\"M19 3H5c-1.1 0-2 .9-2 2v14c0 1.1.9 2 2 2h14c1.1 0 2-.9 2-2V5c0-1.1-.9-2-2-2zM9 17H7v-7h2v7zm4 0h-2V7h2v10zm4 0h-2v-4h2v4z\"/>\n",
              "    </g>\n",
              "</svg>\n",
              "      </button>\n",
              "\n",
              "<style>\n",
              "  .colab-df-quickchart {\n",
              "      --bg-color: #E8F0FE;\n",
              "      --fill-color: #1967D2;\n",
              "      --hover-bg-color: #E2EBFA;\n",
              "      --hover-fill-color: #174EA6;\n",
              "      --disabled-fill-color: #AAA;\n",
              "      --disabled-bg-color: #DDD;\n",
              "  }\n",
              "\n",
              "  [theme=dark] .colab-df-quickchart {\n",
              "      --bg-color: #3B4455;\n",
              "      --fill-color: #D2E3FC;\n",
              "      --hover-bg-color: #434B5C;\n",
              "      --hover-fill-color: #FFFFFF;\n",
              "      --disabled-bg-color: #3B4455;\n",
              "      --disabled-fill-color: #666;\n",
              "  }\n",
              "\n",
              "  .colab-df-quickchart {\n",
              "    background-color: var(--bg-color);\n",
              "    border: none;\n",
              "    border-radius: 50%;\n",
              "    cursor: pointer;\n",
              "    display: none;\n",
              "    fill: var(--fill-color);\n",
              "    height: 32px;\n",
              "    padding: 0;\n",
              "    width: 32px;\n",
              "  }\n",
              "\n",
              "  .colab-df-quickchart:hover {\n",
              "    background-color: var(--hover-bg-color);\n",
              "    box-shadow: 0 1px 2px rgba(60, 64, 67, 0.3), 0 1px 3px 1px rgba(60, 64, 67, 0.15);\n",
              "    fill: var(--button-hover-fill-color);\n",
              "  }\n",
              "\n",
              "  .colab-df-quickchart-complete:disabled,\n",
              "  .colab-df-quickchart-complete:disabled:hover {\n",
              "    background-color: var(--disabled-bg-color);\n",
              "    fill: var(--disabled-fill-color);\n",
              "    box-shadow: none;\n",
              "  }\n",
              "\n",
              "  .colab-df-spinner {\n",
              "    border: 2px solid var(--fill-color);\n",
              "    border-color: transparent;\n",
              "    border-bottom-color: var(--fill-color);\n",
              "    animation:\n",
              "      spin 1s steps(1) infinite;\n",
              "  }\n",
              "\n",
              "  @keyframes spin {\n",
              "    0% {\n",
              "      border-color: transparent;\n",
              "      border-bottom-color: var(--fill-color);\n",
              "      border-left-color: var(--fill-color);\n",
              "    }\n",
              "    20% {\n",
              "      border-color: transparent;\n",
              "      border-left-color: var(--fill-color);\n",
              "      border-top-color: var(--fill-color);\n",
              "    }\n",
              "    30% {\n",
              "      border-color: transparent;\n",
              "      border-left-color: var(--fill-color);\n",
              "      border-top-color: var(--fill-color);\n",
              "      border-right-color: var(--fill-color);\n",
              "    }\n",
              "    40% {\n",
              "      border-color: transparent;\n",
              "      border-right-color: var(--fill-color);\n",
              "      border-top-color: var(--fill-color);\n",
              "    }\n",
              "    60% {\n",
              "      border-color: transparent;\n",
              "      border-right-color: var(--fill-color);\n",
              "    }\n",
              "    80% {\n",
              "      border-color: transparent;\n",
              "      border-right-color: var(--fill-color);\n",
              "      border-bottom-color: var(--fill-color);\n",
              "    }\n",
              "    90% {\n",
              "      border-color: transparent;\n",
              "      border-bottom-color: var(--fill-color);\n",
              "    }\n",
              "  }\n",
              "</style>\n",
              "\n",
              "      <script>\n",
              "        async function quickchart(key) {\n",
              "          const quickchartButtonEl =\n",
              "            document.querySelector('#' + key + ' button');\n",
              "          quickchartButtonEl.disabled = true;  // To prevent multiple clicks.\n",
              "          quickchartButtonEl.classList.add('colab-df-spinner');\n",
              "          try {\n",
              "            const charts = await google.colab.kernel.invokeFunction(\n",
              "                'suggestCharts', [key], {});\n",
              "          } catch (error) {\n",
              "            console.error('Error during call to suggestCharts:', error);\n",
              "          }\n",
              "          quickchartButtonEl.classList.remove('colab-df-spinner');\n",
              "          quickchartButtonEl.classList.add('colab-df-quickchart-complete');\n",
              "        }\n",
              "        (() => {\n",
              "          let quickchartButtonEl =\n",
              "            document.querySelector('#df-f243584e-6689-4b12-9dfe-c3e66f9a2395 button');\n",
              "          quickchartButtonEl.style.display =\n",
              "            google.colab.kernel.accessAllowed ? 'block' : 'none';\n",
              "        })();\n",
              "      </script>\n",
              "    </div>\n",
              "\n",
              "    </div>\n",
              "  </div>\n"
            ],
            "application/vnd.google.colaboratory.intrinsic+json": {
              "type": "dataframe",
              "summary": "{\n  \"name\": \"data\",\n  \"rows\": 8,\n  \"fields\": [\n    {\n      \"column\": \"pelvic_incidence\",\n      \"properties\": {\n        \"dtype\": \"number\",\n        \"std\": 95.16916259736159,\n        \"min\": 17.236520321708856,\n        \"max\": 310.0,\n        \"num_unique_values\": 8,\n        \"samples\": [\n          60.49665292951613,\n          58.691038135,\n          310.0\n        ],\n        \"semantic_type\": \"\",\n        \"description\": \"\"\n      }\n    },\n    {\n      \"column\": \"pelvic_tilt numeric\",\n      \"properties\": {\n        \"dtype\": \"number\",\n        \"std\": 104.74351126112508,\n        \"min\": -6.554948347,\n        \"max\": 310.0,\n        \"num_unique_values\": 8,\n        \"samples\": [\n          17.542821967970966,\n          16.35768863,\n          310.0\n        ],\n        \"semantic_type\": \"\",\n        \"description\": \"\"\n      }\n    },\n    {\n      \"column\": \"lumbar_lordosis_angle\",\n      \"properties\": {\n        \"dtype\": \"number\",\n        \"std\": 97.73532797761011,\n        \"min\": 14.0,\n        \"max\": 310.0,\n        \"num_unique_values\": 8,\n        \"samples\": [\n          51.93092960345161,\n          49.56239828,\n          310.0\n        ],\n        \"semantic_type\": \"\",\n        \"description\": \"\"\n      }\n    },\n    {\n      \"column\": \"sacral_slope\",\n      \"properties\": {\n        \"dtype\": \"number\",\n        \"std\": 99.41486553624695,\n        \"min\": 13.3669307,\n        \"max\": 310.0,\n        \"num_unique_values\": 8,\n        \"samples\": [\n          42.95383096141936,\n          42.404912075,\n          310.0\n        ],\n        \"semantic_type\": \"\",\n        \"description\": \"\"\n      }\n    },\n    {\n      \"column\": \"pelvic_radius\",\n      \"properties\": {\n        \"dtype\": \"number\",\n        \"std\": 85.6565166685666,\n        \"min\": 13.31737704490457,\n        \"max\": 310.0,\n        \"num_unique_values\": 8,\n        \"samples\": [\n          117.92065502380645,\n          118.2681783,\n          310.0\n        ],\n        \"semantic_type\": \"\",\n        \"description\": \"\"\n      }\n    },\n    {\n      \"column\": \"degree_spondylolisthesis\",\n      \"properties\": {\n        \"dtype\": \"number\",\n        \"std\": 163.87563622643026,\n        \"min\": -11.05817866,\n        \"max\": 418.5430821,\n        \"num_unique_values\": 8,\n        \"samples\": [\n          26.296694437867735,\n          11.767933769999999,\n          310.0\n        ],\n        \"semantic_type\": \"\",\n        \"description\": \"\"\n      }\n    }\n  ]\n}"
            }
          },
          "metadata": {},
          "execution_count": 7
        }
      ]
    },
    {
      "cell_type": "markdown",
      "source": [
        "# A. Logistic Regression (Interpretable)"
      ],
      "metadata": {
        "id": "JmUd-0mvpFR8"
      }
    },
    {
      "cell_type": "code",
      "source": [
        "# Import required libraries\n",
        "import pandas as pd\n",
        "import numpy as np\n",
        "from sklearn.model_selection import train_test_split\n",
        "from sklearn.preprocessing import StandardScaler\n",
        "from sklearn.linear_model import LogisticRegression\n",
        "from sklearn.metrics import classification_report, confusion_matrix\n",
        "\n",
        "# Load the data (assuming your DataFrame is already named 'data')\n",
        "# data = pd.read_csv('your_file.csv')  # Uncomment this if loading from a CSV\n",
        "\n",
        "# Check for NaN values\n",
        "if data.isnull().values.any():\n",
        "    print(\"Data contains NaN values\")\n",
        "    # Handle NaN values as needed, e.g., removing or imputing\n",
        "    data = data.dropna()\n",
        "\n",
        "# Convert target variable to binary\n",
        "data['class'] = np.where(data['class'] == 'Abnormal', 1, 0)  # 1 for 'Abnormal', 0 for 'Normal'\n",
        "\n",
        "# Define features and target variable\n",
        "X = data.drop('class', axis=1)\n",
        "y = data['class']\n",
        "\n",
        "# Split the data into training and testing sets\n",
        "X_train, X_test, y_train, y_test = train_test_split(X, y, test_size=0.2, random_state=42)\n",
        "\n",
        "# Standardizing the features\n",
        "scaler = StandardScaler()\n",
        "X_train = scaler.fit_transform(X_train)\n",
        "X_test = scaler.transform(X_test)\n",
        "\n",
        "# Initialize and fit the logistic regression model\n",
        "model = LogisticRegression()\n",
        "model.fit(X_train, y_train)\n",
        "\n",
        "# Make predictions\n",
        "y_pred = model.predict(X_test)\n",
        "\n",
        "# Evaluate the model\n",
        "conf_matrix = confusion_matrix(y_test, y_pred)\n",
        "class_report = classification_report(y_test, y_pred)\n",
        "\n",
        "# Print evaluation results\n",
        "print(\"Confusion Matrix:\")\n",
        "print(conf_matrix)\n",
        "print(\"\\nClassification Report:\")\n",
        "print(class_report)\n"
      ],
      "metadata": {
        "colab": {
          "base_uri": "https://localhost:8080/"
        },
        "id": "foAMVpPOLap8",
        "outputId": "fd47a13d-ddac-465d-e5a0-d3c5632f071e"
      },
      "execution_count": null,
      "outputs": [
        {
          "output_type": "stream",
          "name": "stdout",
          "text": [
            "Confusion Matrix:\n",
            "[[14  4]\n",
            " [ 4 40]]\n",
            "\n",
            "Classification Report:\n",
            "              precision    recall  f1-score   support\n",
            "\n",
            "           0       0.78      0.78      0.78        18\n",
            "           1       0.91      0.91      0.91        44\n",
            "\n",
            "    accuracy                           0.87        62\n",
            "   macro avg       0.84      0.84      0.84        62\n",
            "weighted avg       0.87      0.87      0.87        62\n",
            "\n"
          ]
        }
      ]
    },
    {
      "cell_type": "markdown",
      "source": [
        "📊 **Confusion Matrix for Logistic Regression**\n",
        "\n",
        "True Negatives (TN): 14\n",
        "\n",
        "False Positives (FP): 4\n",
        "\n",
        "False Negatives (FN): 4\n",
        "\n",
        "True Positives (TP): 40"
      ],
      "metadata": {
        "id": "g0zgLqaOlEkl"
      }
    },
    {
      "cell_type": "markdown",
      "source": [
        "📈 **Classification Report Summary**\n",
        "\n",
        "Overall Accuracy: 87%\n",
        "\n",
        "Macro Avg F1-Score: 0.84\n",
        "\n",
        "Weighted Avg F1-Score: 0.87"
      ],
      "metadata": {
        "id": "N92hcOLTlJyt"
      }
    },
    {
      "cell_type": "markdown",
      "source": [],
      "metadata": {
        "id": "dBnOZJ2glLsF"
      }
    },
    {
      "cell_type": "markdown",
      "source": [
        "# **EXTRA** (2D Decision Boundary Plot (using two features))"
      ],
      "metadata": {
        "id": "dxSXSyu3a_cu"
      }
    },
    {
      "cell_type": "code",
      "source": [
        "# ---------------------------------------------\n",
        "# 2D Decision Boundary Plot (using two features)\n",
        "# Let's pick: 'pelvic_incidence' and 'degree_spondylolisthesis'\n",
        "feature1 = 'pelvic_incidence'\n",
        "feature2 = 'degree_spondylolisthesis'\n",
        "\n",
        "# Extract only two features for visualization\n",
        "X_2D = data[[feature1, feature2]]\n",
        "y_2D = data['class']\n",
        "\n",
        "# Split and scale for these two features\n",
        "X_train_2D, X_test_2D, y_train_2D, y_test_2D = train_test_split(X_2D, y_2D, test_size=0.2, random_state=42)\n",
        "scaler_2D = StandardScaler()\n",
        "X_train_2D_scaled = scaler_2D.fit_transform(X_train_2D)\n",
        "X_test_2D_scaled = scaler_2D.transform(X_test_2D)\n",
        "\n",
        "# Train logistic regression on 2D data\n",
        "model_2D = LogisticRegression()\n",
        "model_2D.fit(X_train_2D_scaled, y_train_2D)\n",
        "\n",
        "# Meshgrid for decision boundary\n",
        "h = 0.02\n",
        "x_min, x_max = X_test_2D_scaled[:, 0].min() - 1, X_test_2D_scaled[:, 0].max() + 1\n",
        "y_min, y_max = X_test_2D_scaled[:, 1].min() - 1, X_test_2D_scaled[:, 1].max() + 1\n",
        "xx, yy = np.meshgrid(np.arange(x_min, x_max, h),\n",
        "                     np.arange(y_min, y_max, h))\n",
        "\n",
        "Z = model_2D.predict(np.c_[xx.ravel(), yy.ravel()])\n",
        "Z = Z.reshape(xx.shape)\n",
        "\n",
        "# Plotting\n",
        "plt.figure(figsize=(10, 6))\n",
        "plt.contourf(xx, yy, Z, cmap=plt.cm.RdBu, alpha=0.6)\n",
        "sns.scatterplot(x=X_test_2D_scaled[:, 0], y=X_test_2D_scaled[:, 1],\n",
        "                hue=y_test_2D, palette={0: 'blue', 1: 'red'}, edgecolor='k')\n",
        "plt.xlabel(feature1)\n",
        "plt.ylabel(feature2)\n",
        "#plt.title(\"Decision Boundary (2 Features)\\nAccuracy: {:.2f}%\".format(accuracy * 100))\n",
        "plt.legend(title=\"Class\", loc=\"upper right\")\n",
        "plt.show()"
      ],
      "metadata": {
        "colab": {
          "base_uri": "https://localhost:8080/",
          "height": 546
        },
        "id": "7dpk9QlEYyoj",
        "outputId": "245f0a0d-597d-4c72-e469-1f1895014e24"
      },
      "execution_count": null,
      "outputs": [
        {
          "output_type": "display_data",
          "data": {
            "text/plain": [
              "<Figure size 1000x600 with 1 Axes>"
            ],
            "image/png": "[encoded data removed]"
          },
          "metadata": {}
        }
      ]
    },
    {
      "cell_type": "code",
      "source": [
        "#ROC need to update code..!!!\n",
        "from sklearn.metrics import roc_curve, roc_auc_score\n",
        "import matplotlib.pyplot as plt\n",
        "\n",
        "# Probabilities for the positive class\n",
        "y_probs = logreg.predict_proba(X_test)[:, 1]\n",
        "\n",
        "# Compute ROC curve\n",
        "fpr, tpr, _ = roc_curve(y_test, y_probs)\n",
        "roc_auc = roc_auc_score(y_test, y_probs)\n",
        "\n",
        "# Plot\n",
        "plt.figure()\n",
        "plt.plot(fpr, tpr, label=f\"ROC curve (AUC = {roc_auc:.2f})\")\n",
        "plt.plot([0, 1], [0, 1], linestyle=\"--\", color=\"gray\")\n",
        "plt.xlabel(\"False Positive Rate\")\n",
        "plt.ylabel(\"True Positive Rate\")\n",
        "plt.title(\"ROC Curve - Logistic Regression\")\n",
        "plt.legend()\n",
        "plt.show()\n"
      ],
      "metadata": {
        "colab": {
          "base_uri": "https://localhost:8080/",
          "height": 211
        },
        "id": "6imJpiEysVJN",
        "outputId": "67a0fafb-973b-402c-be57-418b1eb28620"
      },
      "execution_count": null,
      "outputs": [
        {
          "output_type": "error",
          "ename": "NameError",
          "evalue": "name 'logreg' is not defined",
          "traceback": [
            "\u001b[0;31m---------------------------------------------------------------------------\u001b[0m",
            "\u001b[0;31mNameError\u001b[0m                                 Traceback (most recent call last)",
            "\u001b[0;32m<ipython-input-19-c945e7cbad5c>\u001b[0m in \u001b[0;36m<cell line: 0>\u001b[0;34m()\u001b[0m\n\u001b[1;32m      3\u001b[0m \u001b[0;34m\u001b[0m\u001b[0m\n\u001b[1;32m      4\u001b[0m \u001b[0;31m# Probabilities for the positive class\u001b[0m\u001b[0;34m\u001b[0m\u001b[0;34m\u001b[0m\u001b[0m\n\u001b[0;32m----> 5\u001b[0;31m \u001b[0my_probs\u001b[0m \u001b[0;34m=\u001b[0m \u001b[0mlogreg\u001b[0m\u001b[0;34m.\u001b[0m\u001b[0mpredict_proba\u001b[0m\u001b[0;34m(\u001b[0m\u001b[0mX_test\u001b[0m\u001b[0;34m)\u001b[0m\u001b[0;34m[\u001b[0m\u001b[0;34m:\u001b[0m\u001b[0;34m,\u001b[0m \u001b[0;36m1\u001b[0m\u001b[0;34m]\u001b[0m\u001b[0;34m\u001b[0m\u001b[0;34m\u001b[0m\u001b[0m\n\u001b[0m\u001b[1;32m      6\u001b[0m \u001b[0;34m\u001b[0m\u001b[0m\n\u001b[1;32m      7\u001b[0m \u001b[0;31m# Compute ROC curve\u001b[0m\u001b[0;34m\u001b[0m\u001b[0;34m\u001b[0m\u001b[0m\n",
            "\u001b[0;31mNameError\u001b[0m: name 'logreg' is not defined"
          ]
        }
      ]
    },
    {
      "cell_type": "markdown",
      "source": [
        "# 🌲Random Forest (Robust to Outliers)\n",
        "\n",
        "ref:\n",
        "https://www.geeksforgeeks.org/random-forest-classifier-using-scikit-learn/"
      ],
      "metadata": {
        "id": "b7LOsLLvpJo8"
      }
    },
    {
      "cell_type": "code",
      "source": [
        "# 1. Import Libraries\n",
        "import pandas as pd\n",
        "from sklearn.model_selection import train_test_split\n",
        "from sklearn.ensemble import RandomForestClassifier\n",
        "from sklearn.metrics import classification_report, confusion_matrix\n",
        "\n",
        "# 2. Load Data\n",
        "# Assuming the DataFrame is named 'data'\n",
        "data = pd.read_csv(\"column_2C_weka.csv\")\n",
        "\n",
        "# 3. Data Preprocessing\n",
        "# Check for NaN values\n",
        "print(data.isnull().sum())\n",
        "\n",
        "# Encode categorical variable 'class'\n",
        "data['class'] = data['class'].map({'Abnormal': 1, 'Normal': 0})  # Binary encoding for example\n",
        "\n",
        "# 4. Split Data\n",
        "X = data.drop('class', axis=1)  # Features\n",
        "y = data['class']                # Target variable\n",
        "X_train, X_test, y_train, y_test = train_test_split(X, y, test_size=0.2, random_state=42)\n",
        "\n",
        "# 5. Train Random Forest Model\n",
        "rf_model = RandomForestClassifier(n_estimators=100, random_state=42)\n",
        "rf_model.fit(X_train, y_train)\n",
        "\n",
        "# 6. Make Predictions\n",
        "y_pred = rf_model.predict(X_test)\n",
        "\n",
        "# 7. Evaluate the Model\n",
        "print(\"Confusion Matrix:\")\n",
        "print(confusion_matrix(y_test, y_pred))\n",
        "print(\"\\nClassification Report:\")\n",
        "print(classification_report(y_test, y_pred))\n"
      ],
      "metadata": {
        "id": "nosGN-u5pA98",
        "colab": {
          "base_uri": "https://localhost:8080/"
        },
        "outputId": "a2c8257e-e439-43ae-fdb3-036acd8b24c5"
      },
      "execution_count": null,
      "outputs": [
        {
          "output_type": "stream",
          "name": "stdout",
          "text": [
            "pelvic_incidence            0\n",
            "pelvic_tilt numeric         0\n",
            "lumbar_lordosis_angle       0\n",
            "sacral_slope                0\n",
            "pelvic_radius               0\n",
            "degree_spondylolisthesis    0\n",
            "class                       0\n",
            "dtype: int64\n",
            "Confusion Matrix:\n",
            "[[ 9  9]\n",
            " [ 5 39]]\n",
            "\n",
            "Classification Report:\n",
            "              precision    recall  f1-score   support\n",
            "\n",
            "           0       0.64      0.50      0.56        18\n",
            "           1       0.81      0.89      0.85        44\n",
            "\n",
            "    accuracy                           0.77        62\n",
            "   macro avg       0.73      0.69      0.71        62\n",
            "weighted avg       0.76      0.77      0.76        62\n",
            "\n"
          ]
        }
      ]
    },
    {
      "cell_type": "markdown",
      "source": [
        "📊 **Confusion Matrix**\n",
        "\n",
        "True Negatives (TN): 9\n",
        "\n",
        "False Positives (FP): 9\n",
        "\n",
        "False Negatives (FN): 5\n",
        "\n",
        "True Positives (TP): 39\n",
        "\n"
      ],
      "metadata": {
        "id": "r3uXsqC5hgwF"
      }
    },
    {
      "cell_type": "markdown",
      "source": [
        "📈 **Classification Report Breakdown**\n",
        "\n",
        "Accuracy: 77%\n",
        "\n",
        "Macro Avg F1-Score: 0.71\n",
        "\n",
        "Weighted Avg F1-Score: 0.76\n",
        "\n"
      ],
      "metadata": {
        "id": "Kra3zXwAjdcV"
      }
    },
    {
      "cell_type": "markdown",
      "source": [
        "🔍 **What This Means**\n",
        "✔️ Strengths:\n",
        "* Class 1 (Positive Class) performance is strong:\n",
        "\n",
        "* Precision (81%) → When Random Forest predicts the condition, it's usually correct.\n",
        "\n",
        "* Recall (89%) → It identifies almost all positive cases.\n",
        "\n",
        "* F1-score (85%) → A good balance of precision and recall.\n",
        "\n",
        "\n",
        "⚠️ Weaknesses:\n",
        "* Class 0 (Negative Class) performance is weaker:\n",
        "\n",
        "* Precision and recall are relatively low (64% and 50%), meaning it misclassifies many healthy cases as sick (high false positives).\n",
        "\n",
        "* This could be due to class imbalance or overfitting to the dominant class."
      ],
      "metadata": {
        "id": "ZKsrl9_oja71"
      }
    },
    {
      "cell_type": "markdown",
      "source": [
        "🛠️ **Recommendations**\n",
        "\n",
        "* If you want to improve performance further:\n",
        "\n",
        "* Try class weighting (class_weight='balanced' in RandomForestClassifier).\n",
        "\n",
        "* Use feature importance to eliminate irrelevant features.\n",
        "\n",
        "* Consider hyperparameter tuning using GridSearchCV or RandomizedSearchCV.\n",
        "\n",
        "* Try other robust models like XGBoost, LightGBM, or SVM.\n",
        "\n"
      ],
      "metadata": {
        "id": "3wMGJvXKigWt"
      }
    },
    {
      "cell_type": "markdown",
      "source": [
        "# 🌳Random Forest V2 (improved)\n",
        "💡 **Why This Improves Performance**\n",
        "\n",
        "✅ GridSearchCV performs a thorough search over hyperparameters.\n",
        "\n",
        "✅ StandardScaler ensures all features are on the same scale (important for split decisions).\n",
        "\n",
        "✅ More Trees, Depth Control helps the model generalize better.\n",
        "\n",
        "✅ Cross-validation ensures robustness of results."
      ],
      "metadata": {
        "id": "YXNMhC5npRYd"
      }
    },
    {
      "cell_type": "code",
      "source": [
        "# 1. Import Libraries\n",
        "import pandas as pd\n",
        "from sklearn.model_selection import train_test_split, GridSearchCV\n",
        "from sklearn.ensemble import RandomForestClassifier\n",
        "from sklearn.metrics import classification_report, confusion_matrix\n",
        "from sklearn.preprocessing import StandardScaler\n",
        "from sklearn.pipeline import Pipeline\n",
        "\n",
        "# 2. Load Data\n",
        "data = pd.read_csv(\"column_2C_weka.csv\")\n",
        "\n",
        "# 3. Encode Target\n",
        "data['class'] = data['class'].map({'Abnormal': 1, 'Normal': 0})\n",
        "\n",
        "# 4. Feature/Target Split\n",
        "X = data.drop('class', axis=1)\n",
        "y = data['class']\n",
        "\n",
        "# 5. Train-Test Split\n",
        "X_train, X_test, y_train, y_test = train_test_split(X, y, test_size=0.2, random_state=42)\n",
        "\n",
        "# 6. Pipeline with Scaling and Model\n",
        "pipe = Pipeline([\n",
        "    ('scaler', StandardScaler()),  # Optional but often helps RF with numerical stability\n",
        "    ('rf', RandomForestClassifier(random_state=42))\n",
        "])\n",
        "\n",
        "# 7. Hyperparameter Tuning\n",
        "param_grid = {\n",
        "    'rf__n_estimators': [100, 200],\n",
        "    'rf__max_depth': [None, 5, 10],\n",
        "    'rf__min_samples_split': [2, 5],\n",
        "    'rf__min_samples_leaf': [1, 2],\n",
        "    'rf__max_features': ['sqrt', 'log2']\n",
        "}\n",
        "\n",
        "grid = GridSearchCV(pipe, param_grid, cv=5, scoring='accuracy', n_jobs=-1)\n",
        "grid.fit(X_train, y_train)\n",
        "\n",
        "# 8. Best Model Evaluation\n",
        "best_model = grid.best_estimator_\n",
        "y_pred = best_model.predict(X_test)\n",
        "\n",
        "# 9. Metrics\n",
        "print(\"Best Parameters:\", grid.best_params_)\n",
        "print(\"\\nConfusion Matrix:\")\n",
        "print(confusion_matrix(y_test, y_pred))\n",
        "print(\"\\nClassification Report:\")\n",
        "print(classification_report(y_test, y_pred))\n"
      ],
      "metadata": {
        "colab": {
          "base_uri": "https://localhost:8080/"
        },
        "id": "qwnGTN0_m6Bt",
        "outputId": "60fb9878-c65e-4f67-effc-695b00dc425f"
      },
      "execution_count": null,
      "outputs": [
        {
          "output_type": "stream",
          "name": "stdout",
          "text": [
            "Best Parameters: {'rf__max_depth': 10, 'rf__max_features': 'sqrt', 'rf__min_samples_leaf': 1, 'rf__min_samples_split': 2, 'rf__n_estimators': 100}\n",
            "\n",
            "Confusion Matrix:\n",
            "[[10  8]\n",
            " [ 5 39]]\n",
            "\n",
            "Classification Report:\n",
            "              precision    recall  f1-score   support\n",
            "\n",
            "           0       0.67      0.56      0.61        18\n",
            "           1       0.83      0.89      0.86        44\n",
            "\n",
            "    accuracy                           0.79        62\n",
            "   macro avg       0.75      0.72      0.73        62\n",
            "weighted avg       0.78      0.79      0.78        62\n",
            "\n"
          ]
        }
      ]
    },
    {
      "cell_type": "markdown",
      "source": [
        "📊 **Model Performance Comparison**\n",
        "\n",
        "| Metric                  | Logistic Regression | Random Forest (Tuned) |\n",
        "| ----------------------- | ------------------- | --------------------- |\n",
        "| **Accuracy**            | **0.87**            | 0.79                  |\n",
        "| **Precision (Class 0)** | 0.78                | **0.67**              |\n",
        "| **Recall (Class 0)**    | **0.78**            | 0.56                  |\n",
        "| **F1-score (Class 0)**  | **0.78**            | 0.61                  |\n",
        "| **Precision (Class 1)** | 0.91                | **0.83**              |\n",
        "| **Recall (Class 1)**    | **0.91**            | 0.89                  |\n",
        "| **F1-score (Class 1)**  | **0.91**            | 0.86                  |\n",
        "| **Confusion Matrix**    | \\[\\[14 4], \\[4 40]] | \\[\\[10 8], \\[5 39]]   |\n",
        "\n"
      ],
      "metadata": {
        "id": "bamXcxA1p4Yu"
      }
    },
    {
      "cell_type": "markdown",
      "source": [
        "🔍**Key Observations**\n",
        "\n",
        "**Logistic Regression** outperforms Random Forest in:\n",
        "\n",
        "* Overall accuracy\n",
        "\n",
        "* All metrics for the Normal class (0) — which RF struggles with\n",
        "\n",
        "* Slightly better precision and recall for the Abnormal class (1)\n",
        "\n",
        "**Random Forest** does:\n",
        "\n",
        "* Reasonably well for the Abnormal class (1), but\n",
        "\n",
        "* Tends to misclassify more Normal cases as Abnormal"
      ],
      "metadata": {
        "id": "8KA7h1n7qFWF"
      }
    },
    {
      "cell_type": "markdown",
      "source": [
        "🔍 **Interpretation**\n",
        "\n",
        "The model performs very well at detecting Abnormal cases (class 1): high precision and recall.\n",
        "\n",
        "However, it struggles more with Normal cases (class 0), misclassifying 8 out of 18.\n",
        "\n",
        "Overall accuracy is 79%, which is decent, but the class imbalance or subtlety in class 0 patterns may be affecting performance."
      ],
      "metadata": {
        "id": "MOn-sIEbpLV9"
      }
    },
    {
      "cell_type": "code",
      "source": [
        "from sklearn.metrics import roc_curve, auc\n",
        "import matplotlib.pyplot as plt\n",
        "\n",
        "y_proba = best_model.predict_proba(X_test)[:, 1]\n",
        "fpr, tpr, _ = roc_curve(y_test, y_proba)\n",
        "roc_auc = auc(fpr, tpr)\n",
        "\n",
        "plt.figure(figsize=(8, 5))\n",
        "plt.plot(fpr, tpr, label=f\"ROC curve (AUC = {roc_auc:.2f})\")\n",
        "plt.plot([0, 1], [0, 1], linestyle='--', color='gray')\n",
        "plt.xlabel(\"False Positive Rate\")\n",
        "plt.ylabel(\"True Positive Rate\")\n",
        "plt.title(\"ROC Curve - Random Forest\")\n",
        "plt.legend()\n",
        "plt.grid()\n",
        "plt.show()\n"
      ],
      "metadata": {
        "colab": {
          "base_uri": "https://localhost:8080/",
          "height": 487
        },
        "id": "hYfsQBR0n_Kt",
        "outputId": "c90aec66-465d-4292-9b77-5ce2c5a8ca38"
      },
      "execution_count": null,
      "outputs": [
        {
          "output_type": "display_data",
          "data": {
            "text/plain": [
              "<Figure size 800x500 with 1 Axes>"
            ],
            "image/png": "[encoded data removed]"
          },
          "metadata": {}
        }
      ]
    },
    {
      "cell_type": "markdown",
      "source": [
        "✅ **Interpretation of ROC Curve – Random Forest**\n",
        "\n",
        "AUC (Area Under the Curve) = 0.90\n",
        "This is a strong score, indicating that the Random Forest model has excellent ability to distinguish between the two classes:\n",
        "\n",
        "* AUC close to 1 means very good separation.\n",
        "\n",
        "* AUC of 0.5 means no better than random guessing.\n",
        "\n",
        "The curve stays close to the top-left corner, showing:\n",
        "\n",
        "* High true positive rate (TPR)\n",
        "\n",
        "* Low false positive rate (FPR)"
      ],
      "metadata": {
        "id": "6thly2DysC1G"
      }
    },
    {
      "cell_type": "markdown",
      "source": [
        "🧠 **Conclusion**\n",
        "\n",
        "Even though Logistic Regression had higher classification accuracy (87%), Random Forest's AUC of 0.90 shows it's very effective in ranking predictions.\n",
        "\n",
        "This means Random Forest is still a strong candidate, especially in situations where AUC is more important than simple accuracy (e.g., imbalanced data or prioritizing recall/precision trade-offs).\n",
        "\n"
      ],
      "metadata": {
        "id": "qA771Mlaslcd"
      }
    },
    {
      "cell_type": "markdown",
      "source": [
        "#🚀 Gradient Boosting (XGBoost)"
      ],
      "metadata": {
        "id": "0955VXYqpPa7"
      }
    },
    {
      "cell_type": "code",
      "source": [
        "from xgboost import XGBClassifier\n",
        "\n",
        "model_xgb = XGBClassifier(random_state=42, use_label_encoder=False, eval_metric='logloss')\n",
        "model_xgb.fit(X_train, y_train)\n",
        "y_pred_xgb = model_xgb.predict(X_test)\n",
        "\n",
        "print(confusion_matrix(y_test, y_pred_xgb))\n",
        "print(classification_report(y_test, y_pred_xgb))\n"
      ],
      "metadata": {
        "id": "eOQdUt9HpRws",
        "colab": {
          "base_uri": "https://localhost:8080/"
        },
        "outputId": "8daef250-be39-47ce-b68f-f46324fea144"
      },
      "execution_count": null,
      "outputs": [
        {
          "output_type": "stream",
          "name": "stderr",
          "text": [
            "/usr/local/lib/python3.11/dist-packages/xgboost/core.py:158: UserWarning: [01:10:10] WARNING: /workspace/src/learner.cc:740: \n",
            "Parameters: { \"use_label_encoder\" } are not used.\n",
            "\n",
            "  warnings.warn(smsg, UserWarning)\n"
          ]
        },
        {
          "output_type": "stream",
          "name": "stdout",
          "text": [
            "[[10  8]\n",
            " [ 4 40]]\n",
            "              precision    recall  f1-score   support\n",
            "\n",
            "           0       0.71      0.56      0.62        18\n",
            "           1       0.83      0.91      0.87        44\n",
            "\n",
            "    accuracy                           0.81        62\n",
            "   macro avg       0.77      0.73      0.75        62\n",
            "weighted avg       0.80      0.81      0.80        62\n",
            "\n"
          ]
        }
      ]
    },
    {
      "cell_type": "markdown",
      "source": [
        "# Support Vector Machine (SVM)"
      ],
      "metadata": {
        "id": "J4D0Wn6hpSDs"
      }
    },
    {
      "cell_type": "code",
      "source": [
        "# 1. Import Libraries\n",
        "import pandas as pd\n",
        "from sklearn.model_selection import train_test_split\n",
        "from sklearn.preprocessing import StandardScaler\n",
        "from sklearn.svm import SVC\n",
        "from sklearn.metrics import classification_report, confusion_matrix, roc_auc_score, roc_curve\n",
        "import matplotlib.pyplot as plt\n",
        "\n",
        "# 2. Load Data\n",
        "data = pd.read_csv(\"column_2C_weka.csv\")\n",
        "\n",
        "# 3. Encode target\n",
        "data['class'] = data['class'].map({'Abnormal': 1, 'Normal': 0})\n",
        "\n",
        "# 4. Features and Target\n",
        "X = data.drop('class', axis=1)\n",
        "y = data['class']\n",
        "\n",
        "# 5. Train-test split\n",
        "X_train, X_test, y_train, y_test = train_test_split(X, y, test_size=0.2, random_state=42)\n",
        "\n",
        "# 6. Standardize features (important for SVM!)\n",
        "scaler = StandardScaler()\n",
        "X_train_scaled = scaler.fit_transform(X_train)\n",
        "X_test_scaled = scaler.transform(X_test)\n",
        "\n",
        "# 7. Train SVM (start with RBF kernel)\n",
        "svm_model = SVC(kernel='rbf', probability=True, random_state=42)\n",
        "svm_model.fit(X_train_scaled, y_train)\n",
        "\n",
        "# 8. Predictions\n",
        "y_pred = svm_model.predict(X_test_scaled)\n",
        "y_prob = svm_model.predict_proba(X_test_scaled)[:, 1]\n",
        "\n",
        "# 9. Evaluation\n",
        "print(\"Confusion Matrix:\")\n",
        "print(confusion_matrix(y_test, y_pred))\n",
        "\n",
        "print(\"\\nClassification Report:\")\n",
        "print(classification_report(y_test, y_pred))\n",
        "\n",
        "# Optional: ROC Curve\n",
        "fpr, tpr, _ = roc_curve(y_test, y_prob)\n",
        "auc = roc_auc_score(y_test, y_prob)\n",
        "\n",
        "plt.plot(fpr, tpr, label=f'ROC curve (AUC = {auc:.2f})')\n",
        "plt.plot([0, 1], [0, 1], 'k--')\n",
        "plt.xlabel('False Positive Rate')\n",
        "plt.ylabel('True Positive Rate')\n",
        "plt.title('ROC Curve - SVM')\n",
        "plt.legend(loc='lower right')\n",
        "plt.grid(True)\n",
        "plt.show()\n"
      ],
      "metadata": {
        "id": "OqTuBeTbpWZr",
        "colab": {
          "base_uri": "https://localhost:8080/",
          "height": 715
        },
        "outputId": "1f9e50b8-7195-4e0f-c7de-8be0c5332b0d"
      },
      "execution_count": null,
      "outputs": [
        {
          "output_type": "stream",
          "name": "stdout",
          "text": [
            "Confusion Matrix:\n",
            "[[11  7]\n",
            " [ 5 39]]\n",
            "\n",
            "Classification Report:\n",
            "              precision    recall  f1-score   support\n",
            "\n",
            "           0       0.69      0.61      0.65        18\n",
            "           1       0.85      0.89      0.87        44\n",
            "\n",
            "    accuracy                           0.81        62\n",
            "   macro avg       0.77      0.75      0.76        62\n",
            "weighted avg       0.80      0.81      0.80        62\n",
            "\n"
          ]
        },
        {
          "output_type": "display_data",
          "data": {
            "text/plain": [
              "<Figure size 640x480 with 1 Axes>"
            ],
            "image/png": "[encoded data removed]"
          },
          "metadata": {}
        }
      ]
    },
    {
      "cell_type": "markdown",
      "source": [
        "#✅ Model Performance Comparison"
      ],
      "metadata": {
        "id": "_WrPhMAyrGc9"
      }
    },
    {
      "cell_type": "markdown",
      "source": [
        "| Metric              | Logistic Regression | Random Forest | XGBoost  | SVM      |\n",
        "| ------------------- | ------------------- | ------------- | -------- | -------- |\n",
        "| **Accuracy**        | **0.87**            | 0.79          | 0.81     | 0.81     |\n",
        "| **Precision (0)**   | 0.78                | 0.67          | 0.71     | 0.69     |\n",
        "| **Recall (0)**      | **0.78**            | 0.56          | 0.56     | 0.61     |\n",
        "| **F1-score (0)**    | **0.78**            | 0.61          | 0.62     | 0.65     |\n",
        "| **Precision (1)**   | **0.91**            | 0.83          | 0.83     | 0.85     |\n",
        "| **Recall (1)**      | **0.91**            | 0.89          | **0.91** | 0.89     |\n",
        "| **F1-score (1)**    | **0.91**            | 0.86          | **0.87** | **0.87** |\n",
        "| **Macro Avg F1**    | **0.84**            | 0.73          | 0.75     | 0.76     |\n",
        "| **Weighted Avg F1** | **0.87**            | 0.78          | 0.80     | 0.80     |\n"
      ],
      "metadata": {
        "id": "Kgq_J9Hx_C2I"
      }
    },
    {
      "cell_type": "markdown",
      "source": [
        "#🏆 Key Insights\n",
        "\n",
        "**Best Overall Accuracy & Balanced Performance**:\n",
        "**Logistic Regression** performs best overall, with:\n",
        "\n",
        "* Highest accuracy (0.87)\n",
        "\n",
        "* Balanced precision and recall for both classes\n",
        "\n",
        "* Highest macro and weighted F1-scores\n",
        "\n",
        "**Best for Detecting Abnormal Spines (Class 1)**:\n",
        "All models do well here, but **Logistic Regression** and**XGBoost/SVM** are nearly tied.\n",
        "If recall for class 1 (avoiding false negatives) is your main goal, XGBoost is excellent (recall = 0.91).\n",
        "\n",
        "**Random Forest** underperforms here compared to others."
      ],
      "metadata": {
        "id": "HKGL3TkqAYew"
      }
    },
    {
      "cell_type": "markdown",
      "source": [
        "# 🧠 Conclusion\n",
        "\n",
        "✅ Use Logistic Regression as your baseline model for deployment/reporting.\n",
        "\n",
        "✅Optionally fine-tune SVM or XGBoost for improved class 0 recall (normal spines).\n",
        "\n",
        "✅Consider stratified k-fold cross-validation to ensure generalization.\n",
        "\n",
        "In disease classification, the aim is to minimize False Negatives while keeping the testing precision and recall as high as possible."
      ],
      "metadata": {
        "id": "nyRb5KKarPEV"
      }
    }
  ]
}