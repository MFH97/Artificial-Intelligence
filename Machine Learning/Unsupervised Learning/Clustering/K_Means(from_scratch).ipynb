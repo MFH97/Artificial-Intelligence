{
  "nbformat": 4,
  "nbformat_minor": 0,
  "metadata": {
    "colab": {
      "provenance": [],
      "authorship_tag": "ABX9TyN5v/3ntKob/NwJvxFLuF/C",
      "include_colab_link": true
    },
    "kernelspec": {
      "name": "python3",
      "display_name": "Python 3"
    },
    "language_info": {
      "name": "python"
    }
  },
  "cells": [
    {
      "cell_type": "markdown",
      "metadata": {
        "id": "view-in-github",
        "colab_type": "text"
      },
      "source": [
        "<a href=\"https://colab.research.google.com/github/MFH97/Artificial-Intelligence/blob/main/K_Means(from_scratch).ipynb\" target=\"_parent\"><img src=\"https://colab.research.google.com/assets/colab-badge.svg\" alt=\"Open In Colab\"/></a>"
      ]
    },
    {
      "cell_type": "markdown",
      "source": [
        "#Implementing K-Means Clustering in Python From Scratch\n",
        "\n",
        "We will be working on the loan prediction dataset that you can download [Dataset](https://drive.google.com/file/d/1ZzEouo7lRJvajxK6jLM2K_p9xAwGw1tS/view?usp=sharing). I encourage you to read more about the dataset and the problem statement of Loan Predicition here. This will help you visualize what we are working on (and why we are doing this)."
      ],
      "metadata": {
        "id": "rueWAI5GgC-Z"
      }
    },
    {
      "cell_type": "markdown",
      "source": [
        "**How K-Means Works in This Code**\n",
        "\n",
        "1. Starts with initial centroids (assumed to be defined earlier).\n",
        "\n",
        "2. Assigns each point to the nearest centroid (Euclidean distance).\n",
        "\n",
        "3. Updates centroids to the mean of their assigned points.\n",
        "\n",
        "4. Repeats until centroids stop moving (diff = 0)."
      ],
      "metadata": {
        "id": "MheBdf-OkH-Q"
      }
    },
    {
      "cell_type": "code",
      "execution_count": 1,
      "metadata": {
        "id": "PxYipK9vf_1k"
      },
      "outputs": [],
      "source": [
        "#import libraries\n",
        "import pandas as pd\n",
        "import numpy as np\n",
        "import random as rd\n",
        "import matplotlib.pyplot as plt"
      ]
    },
    {
      "cell_type": "code",
      "source": [
        "data = pd.read_csv('clustering.csv')\n",
        "data.head()"
      ],
      "metadata": {
        "colab": {
          "base_uri": "https://localhost:8080/",
          "height": 261
        },
        "id": "PjRHc5m5gR3p",
        "outputId": "1dad6559-894d-4ed7-b9d3-90501ee6578b"
      },
      "execution_count": 2,
      "outputs": [
        {
          "output_type": "execute_result",
          "data": {
            "text/plain": [
              "    Loan_ID Gender Married Dependents     Education Self_Employed  \\\n",
              "0  LP001003   Male     Yes          1      Graduate            No   \n",
              "1  LP001005   Male     Yes          0      Graduate           Yes   \n",
              "2  LP001006   Male     Yes          0  Not Graduate            No   \n",
              "3  LP001008   Male      No          0      Graduate            No   \n",
              "4  LP001013   Male     Yes          0  Not Graduate            No   \n",
              "\n",
              "   ApplicantIncome  CoapplicantIncome  LoanAmount  Loan_Amount_Term  \\\n",
              "0             4583             1508.0       128.0             360.0   \n",
              "1             3000                0.0        66.0             360.0   \n",
              "2             2583             2358.0       120.0             360.0   \n",
              "3             6000                0.0       141.0             360.0   \n",
              "4             2333             1516.0        95.0             360.0   \n",
              "\n",
              "   Credit_History Property_Area Loan_Status  \n",
              "0             1.0         Rural           N  \n",
              "1             1.0         Urban           Y  \n",
              "2             1.0         Urban           Y  \n",
              "3             1.0         Urban           Y  \n",
              "4             1.0         Urban           Y  "
            ],
            "text/html": [
              "\n",
              "  <div id=\"df-950f0e84-39ce-4a4e-baaf-160116d90e50\" class=\"colab-df-container\">\n",
              "    <div>\n",
              "<style scoped>\n",
              "    .dataframe tbody tr th:only-of-type {\n",
              "        vertical-align: middle;\n",
              "    }\n",
              "\n",
              "    .dataframe tbody tr th {\n",
              "        vertical-align: top;\n",
              "    }\n",
              "\n",
              "    .dataframe thead th {\n",
              "        text-align: right;\n",
              "    }\n",
              "</style>\n",
              "<table border=\"1\" class=\"dataframe\">\n",
              "  <thead>\n",
              "    <tr style=\"text-align: right;\">\n",
              "      <th></th>\n",
              "      <th>Loan_ID</th>\n",
              "      <th>Gender</th>\n",
              "      <th>Married</th>\n",
              "      <th>Dependents</th>\n",
              "      <th>Education</th>\n",
              "      <th>Self_Employed</th>\n",
              "      <th>ApplicantIncome</th>\n",
              "      <th>CoapplicantIncome</th>\n",
              "      <th>LoanAmount</th>\n",
              "      <th>Loan_Amount_Term</th>\n",
              "      <th>Credit_History</th>\n",
              "      <th>Property_Area</th>\n",
              "      <th>Loan_Status</th>\n",
              "    </tr>\n",
              "  </thead>\n",
              "  <tbody>\n",
              "    <tr>\n",
              "      <th>0</th>\n",
              "      <td>LP001003</td>\n",
              "      <td>Male</td>\n",
              "      <td>Yes</td>\n",
              "      <td>1</td>\n",
              "      <td>Graduate</td>\n",
              "      <td>No</td>\n",
              "      <td>4583</td>\n",
              "      <td>1508.0</td>\n",
              "      <td>128.0</td>\n",
              "      <td>360.0</td>\n",
              "      <td>1.0</td>\n",
              "      <td>Rural</td>\n",
              "      <td>N</td>\n",
              "    </tr>\n",
              "    <tr>\n",
              "      <th>1</th>\n",
              "      <td>LP001005</td>\n",
              "      <td>Male</td>\n",
              "      <td>Yes</td>\n",
              "      <td>0</td>\n",
              "      <td>Graduate</td>\n",
              "      <td>Yes</td>\n",
              "      <td>3000</td>\n",
              "      <td>0.0</td>\n",
              "      <td>66.0</td>\n",
              "      <td>360.0</td>\n",
              "      <td>1.0</td>\n",
              "      <td>Urban</td>\n",
              "      <td>Y</td>\n",
              "    </tr>\n",
              "    <tr>\n",
              "      <th>2</th>\n",
              "      <td>LP001006</td>\n",
              "      <td>Male</td>\n",
              "      <td>Yes</td>\n",
              "      <td>0</td>\n",
              "      <td>Not Graduate</td>\n",
              "      <td>No</td>\n",
              "      <td>2583</td>\n",
              "      <td>2358.0</td>\n",
              "      <td>120.0</td>\n",
              "      <td>360.0</td>\n",
              "      <td>1.0</td>\n",
              "      <td>Urban</td>\n",
              "      <td>Y</td>\n",
              "    </tr>\n",
              "    <tr>\n",
              "      <th>3</th>\n",
              "      <td>LP001008</td>\n",
              "      <td>Male</td>\n",
              "      <td>No</td>\n",
              "      <td>0</td>\n",
              "      <td>Graduate</td>\n",
              "      <td>No</td>\n",
              "      <td>6000</td>\n",
              "      <td>0.0</td>\n",
              "      <td>141.0</td>\n",
              "      <td>360.0</td>\n",
              "      <td>1.0</td>\n",
              "      <td>Urban</td>\n",
              "      <td>Y</td>\n",
              "    </tr>\n",
              "    <tr>\n",
              "      <th>4</th>\n",
              "      <td>LP001013</td>\n",
              "      <td>Male</td>\n",
              "      <td>Yes</td>\n",
              "      <td>0</td>\n",
              "      <td>Not Graduate</td>\n",
              "      <td>No</td>\n",
              "      <td>2333</td>\n",
              "      <td>1516.0</td>\n",
              "      <td>95.0</td>\n",
              "      <td>360.0</td>\n",
              "      <td>1.0</td>\n",
              "      <td>Urban</td>\n",
              "      <td>Y</td>\n",
              "    </tr>\n",
              "  </tbody>\n",
              "</table>\n",
              "</div>\n",
              "    <div class=\"colab-df-buttons\">\n",
              "\n",
              "  <div class=\"colab-df-container\">\n",
              "    <button class=\"colab-df-convert\" onclick=\"convertToInteractive('df-950f0e84-39ce-4a4e-baaf-160116d90e50')\"\n",
              "            title=\"Convert this dataframe to an interactive table.\"\n",
              "            style=\"display:none;\">\n",
              "\n",
              "  <svg xmlns=\"http://www.w3.org/2000/svg\" height=\"24px\" viewBox=\"0 -960 960 960\">\n",
              "    <path d=\"M120-120v-720h720v720H120Zm60-500h600v-160H180v160Zm220 220h160v-160H400v160Zm0 220h160v-160H400v160ZM180-400h160v-160H180v160Zm440 0h160v-160H620v160ZM180-180h160v-160H180v160Zm440 0h160v-160H620v160Z\"/>\n",
              "  </svg>\n",
              "    </button>\n",
              "\n",
              "  <style>\n",
              "    .colab-df-container {\n",
              "      display:flex;\n",
              "      gap: 12px;\n",
              "    }\n",
              "\n",
              "    .colab-df-convert {\n",
              "      background-color: #E8F0FE;\n",
              "      border: none;\n",
              "      border-radius: 50%;\n",
              "      cursor: pointer;\n",
              "      display: none;\n",
              "      fill: #1967D2;\n",
              "      height: 32px;\n",
              "      padding: 0 0 0 0;\n",
              "      width: 32px;\n",
              "    }\n",
              "\n",
              "    .colab-df-convert:hover {\n",
              "      background-color: #E2EBFA;\n",
              "      box-shadow: 0px 1px 2px rgba(60, 64, 67, 0.3), 0px 1px 3px 1px rgba(60, 64, 67, 0.15);\n",
              "      fill: #174EA6;\n",
              "    }\n",
              "\n",
              "    .colab-df-buttons div {\n",
              "      margin-bottom: 4px;\n",
              "    }\n",
              "\n",
              "    [theme=dark] .colab-df-convert {\n",
              "      background-color: #3B4455;\n",
              "      fill: #D2E3FC;\n",
              "    }\n",
              "\n",
              "    [theme=dark] .colab-df-convert:hover {\n",
              "      background-color: #434B5C;\n",
              "      box-shadow: 0px 1px 3px 1px rgba(0, 0, 0, 0.15);\n",
              "      filter: drop-shadow(0px 1px 2px rgba(0, 0, 0, 0.3));\n",
              "      fill: #FFFFFF;\n",
              "    }\n",
              "  </style>\n",
              "\n",
              "    <script>\n",
              "      const buttonEl =\n",
              "        document.querySelector('#df-950f0e84-39ce-4a4e-baaf-160116d90e50 button.colab-df-convert');\n",
              "      buttonEl.style.display =\n",
              "        google.colab.kernel.accessAllowed ? 'block' : 'none';\n",
              "\n",
              "      async function convertToInteractive(key) {\n",
              "        const element = document.querySelector('#df-950f0e84-39ce-4a4e-baaf-160116d90e50');\n",
              "        const dataTable =\n",
              "          await google.colab.kernel.invokeFunction('convertToInteractive',\n",
              "                                                    [key], {});\n",
              "        if (!dataTable) return;\n",
              "\n",
              "        const docLinkHtml = 'Like what you see? Visit the ' +\n",
              "          '<a target=\"_blank\" href=https://colab.research.google.com/notebooks/data_table.ipynb>data table notebook</a>'\n",
              "          + ' to learn more about interactive tables.';\n",
              "        element.innerHTML = '';\n",
              "        dataTable['output_type'] = 'display_data';\n",
              "        await google.colab.output.renderOutput(dataTable, element);\n",
              "        const docLink = document.createElement('div');\n",
              "        docLink.innerHTML = docLinkHtml;\n",
              "        element.appendChild(docLink);\n",
              "      }\n",
              "    </script>\n",
              "  </div>\n",
              "\n",
              "\n",
              "    <div id=\"df-808cde17-f292-4ffa-9b48-d47ba5f84098\">\n",
              "      <button class=\"colab-df-quickchart\" onclick=\"quickchart('df-808cde17-f292-4ffa-9b48-d47ba5f84098')\"\n",
              "                title=\"Suggest charts\"\n",
              "                style=\"display:none;\">\n",
              "\n",
              "<svg xmlns=\"http://www.w3.org/2000/svg\" height=\"24px\"viewBox=\"0 0 24 24\"\n",
              "     width=\"24px\">\n",
              "    <g>\n",
              "        <path d=\"M19 3H5c-1.1 0-2 .9-2 2v14c0 1.1.9 2 2 2h14c1.1 0 2-.9 2-2V5c0-1.1-.9-2-2-2zM9 17H7v-7h2v7zm4 0h-2V7h2v10zm4 0h-2v-4h2v4z\"/>\n",
              "    </g>\n",
              "</svg>\n",
              "      </button>\n",
              "\n",
              "<style>\n",
              "  .colab-df-quickchart {\n",
              "      --bg-color: #E8F0FE;\n",
              "      --fill-color: #1967D2;\n",
              "      --hover-bg-color: #E2EBFA;\n",
              "      --hover-fill-color: #174EA6;\n",
              "      --disabled-fill-color: #AAA;\n",
              "      --disabled-bg-color: #DDD;\n",
              "  }\n",
              "\n",
              "  [theme=dark] .colab-df-quickchart {\n",
              "      --bg-color: #3B4455;\n",
              "      --fill-color: #D2E3FC;\n",
              "      --hover-bg-color: #434B5C;\n",
              "      --hover-fill-color: #FFFFFF;\n",
              "      --disabled-bg-color: #3B4455;\n",
              "      --disabled-fill-color: #666;\n",
              "  }\n",
              "\n",
              "  .colab-df-quickchart {\n",
              "    background-color: var(--bg-color);\n",
              "    border: none;\n",
              "    border-radius: 50%;\n",
              "    cursor: pointer;\n",
              "    display: none;\n",
              "    fill: var(--fill-color);\n",
              "    height: 32px;\n",
              "    padding: 0;\n",
              "    width: 32px;\n",
              "  }\n",
              "\n",
              "  .colab-df-quickchart:hover {\n",
              "    background-color: var(--hover-bg-color);\n",
              "    box-shadow: 0 1px 2px rgba(60, 64, 67, 0.3), 0 1px 3px 1px rgba(60, 64, 67, 0.15);\n",
              "    fill: var(--button-hover-fill-color);\n",
              "  }\n",
              "\n",
              "  .colab-df-quickchart-complete:disabled,\n",
              "  .colab-df-quickchart-complete:disabled:hover {\n",
              "    background-color: var(--disabled-bg-color);\n",
              "    fill: var(--disabled-fill-color);\n",
              "    box-shadow: none;\n",
              "  }\n",
              "\n",
              "  .colab-df-spinner {\n",
              "    border: 2px solid var(--fill-color);\n",
              "    border-color: transparent;\n",
              "    border-bottom-color: var(--fill-color);\n",
              "    animation:\n",
              "      spin 1s steps(1) infinite;\n",
              "  }\n",
              "\n",
              "  @keyframes spin {\n",
              "    0% {\n",
              "      border-color: transparent;\n",
              "      border-bottom-color: var(--fill-color);\n",
              "      border-left-color: var(--fill-color);\n",
              "    }\n",
              "    20% {\n",
              "      border-color: transparent;\n",
              "      border-left-color: var(--fill-color);\n",
              "      border-top-color: var(--fill-color);\n",
              "    }\n",
              "    30% {\n",
              "      border-color: transparent;\n",
              "      border-left-color: var(--fill-color);\n",
              "      border-top-color: var(--fill-color);\n",
              "      border-right-color: var(--fill-color);\n",
              "    }\n",
              "    40% {\n",
              "      border-color: transparent;\n",
              "      border-right-color: var(--fill-color);\n",
              "      border-top-color: var(--fill-color);\n",
              "    }\n",
              "    60% {\n",
              "      border-color: transparent;\n",
              "      border-right-color: var(--fill-color);\n",
              "    }\n",
              "    80% {\n",
              "      border-color: transparent;\n",
              "      border-right-color: var(--fill-color);\n",
              "      border-bottom-color: var(--fill-color);\n",
              "    }\n",
              "    90% {\n",
              "      border-color: transparent;\n",
              "      border-bottom-color: var(--fill-color);\n",
              "    }\n",
              "  }\n",
              "</style>\n",
              "\n",
              "      <script>\n",
              "        async function quickchart(key) {\n",
              "          const quickchartButtonEl =\n",
              "            document.querySelector('#' + key + ' button');\n",
              "          quickchartButtonEl.disabled = true;  // To prevent multiple clicks.\n",
              "          quickchartButtonEl.classList.add('colab-df-spinner');\n",
              "          try {\n",
              "            const charts = await google.colab.kernel.invokeFunction(\n",
              "                'suggestCharts', [key], {});\n",
              "          } catch (error) {\n",
              "            console.error('Error during call to suggestCharts:', error);\n",
              "          }\n",
              "          quickchartButtonEl.classList.remove('colab-df-spinner');\n",
              "          quickchartButtonEl.classList.add('colab-df-quickchart-complete');\n",
              "        }\n",
              "        (() => {\n",
              "          let quickchartButtonEl =\n",
              "            document.querySelector('#df-808cde17-f292-4ffa-9b48-d47ba5f84098 button');\n",
              "          quickchartButtonEl.style.display =\n",
              "            google.colab.kernel.accessAllowed ? 'block' : 'none';\n",
              "        })();\n",
              "      </script>\n",
              "    </div>\n",
              "\n",
              "    </div>\n",
              "  </div>\n"
            ],
            "application/vnd.google.colaboratory.intrinsic+json": {
              "type": "dataframe",
              "variable_name": "data",
              "summary": "{\n  \"name\": \"data\",\n  \"rows\": 381,\n  \"fields\": [\n    {\n      \"column\": \"Loan_ID\",\n      \"properties\": {\n        \"dtype\": \"string\",\n        \"num_unique_values\": 381,\n        \"samples\": [\n          \"LP002348\",\n          \"LP001977\",\n          \"LP001206\"\n        ],\n        \"semantic_type\": \"\",\n        \"description\": \"\"\n      }\n    },\n    {\n      \"column\": \"Gender\",\n      \"properties\": {\n        \"dtype\": \"category\",\n        \"num_unique_values\": 2,\n        \"samples\": [\n          \"Female\",\n          \"Male\"\n        ],\n        \"semantic_type\": \"\",\n        \"description\": \"\"\n      }\n    },\n    {\n      \"column\": \"Married\",\n      \"properties\": {\n        \"dtype\": \"category\",\n        \"num_unique_values\": 2,\n        \"samples\": [\n          \"No\",\n          \"Yes\"\n        ],\n        \"semantic_type\": \"\",\n        \"description\": \"\"\n      }\n    },\n    {\n      \"column\": \"Dependents\",\n      \"properties\": {\n        \"dtype\": \"category\",\n        \"num_unique_values\": 4,\n        \"samples\": [\n          \"0\",\n          \"3+\"\n        ],\n        \"semantic_type\": \"\",\n        \"description\": \"\"\n      }\n    },\n    {\n      \"column\": \"Education\",\n      \"properties\": {\n        \"dtype\": \"category\",\n        \"num_unique_values\": 2,\n        \"samples\": [\n          \"Not Graduate\",\n          \"Graduate\"\n        ],\n        \"semantic_type\": \"\",\n        \"description\": \"\"\n      }\n    },\n    {\n      \"column\": \"Self_Employed\",\n      \"properties\": {\n        \"dtype\": \"category\",\n        \"num_unique_values\": 2,\n        \"samples\": [\n          \"Yes\",\n          \"No\"\n        ],\n        \"semantic_type\": \"\",\n        \"description\": \"\"\n      }\n    },\n    {\n      \"column\": \"ApplicantIncome\",\n      \"properties\": {\n        \"dtype\": \"number\",\n        \"std\": 1419,\n        \"min\": 150,\n        \"max\": 9703,\n        \"num_unique_values\": 322,\n        \"samples\": [\n          2917,\n          3812\n        ],\n        \"semantic_type\": \"\",\n        \"description\": \"\"\n      }\n    },\n    {\n      \"column\": \"CoapplicantIncome\",\n      \"properties\": {\n        \"dtype\": \"number\",\n        \"std\": 2340.818113803749,\n        \"min\": 0.0,\n        \"max\": 33837.0,\n        \"num_unique_values\": 182,\n        \"samples\": [\n          2336.0,\n          754.0\n        ],\n        \"semantic_type\": \"\",\n        \"description\": \"\"\n      }\n    },\n    {\n      \"column\": \"LoanAmount\",\n      \"properties\": {\n        \"dtype\": \"number\",\n        \"std\": 28.35846362028739,\n        \"min\": 9.0,\n        \"max\": 150.0,\n        \"num_unique_values\": 101,\n        \"samples\": [\n          103.0,\n          87.0\n        ],\n        \"semantic_type\": \"\",\n        \"description\": \"\"\n      }\n    },\n    {\n      \"column\": \"Loan_Amount_Term\",\n      \"properties\": {\n        \"dtype\": \"number\",\n        \"std\": 68.54925717464624,\n        \"min\": 12.0,\n        \"max\": 480.0,\n        \"num_unique_values\": 10,\n        \"samples\": [\n          12.0,\n          120.0\n        ],\n        \"semantic_type\": \"\",\n        \"description\": \"\"\n      }\n    },\n    {\n      \"column\": \"Credit_History\",\n      \"properties\": {\n        \"dtype\": \"number\",\n        \"std\": 0.369337591385247,\n        \"min\": 0.0,\n        \"max\": 1.0,\n        \"num_unique_values\": 2,\n        \"samples\": [\n          0.0,\n          1.0\n        ],\n        \"semantic_type\": \"\",\n        \"description\": \"\"\n      }\n    },\n    {\n      \"column\": \"Property_Area\",\n      \"properties\": {\n        \"dtype\": \"category\",\n        \"num_unique_values\": 3,\n        \"samples\": [\n          \"Rural\",\n          \"Urban\"\n        ],\n        \"semantic_type\": \"\",\n        \"description\": \"\"\n      }\n    },\n    {\n      \"column\": \"Loan_Status\",\n      \"properties\": {\n        \"dtype\": \"category\",\n        \"num_unique_values\": 2,\n        \"samples\": [\n          \"Y\",\n          \"N\"\n        ],\n        \"semantic_type\": \"\",\n        \"description\": \"\"\n      }\n    }\n  ]\n}"
            }
          },
          "metadata": {},
          "execution_count": 2
        }
      ]
    },
    {
      "cell_type": "markdown",
      "source": [
        " we will be taking only two variables from the data – “LoanAmount” and “ApplicantIncome.” This will make it easy to visualize the steps as well. Let’s pick these two variables and visualize the data points:"
      ],
      "metadata": {
        "id": "0q1p6zlYgW5R"
      }
    },
    {
      "cell_type": "code",
      "source": [
        "X = data[[\"LoanAmount\",\"ApplicantIncome\"]]\n",
        "#Visualise data points\n",
        "plt.scatter(X[\"ApplicantIncome\"],X[\"LoanAmount\"],c='black')\n",
        "plt.xlabel('AnnualIncome')\n",
        "plt.ylabel('Loan Amount (In Thousands)')\n",
        "plt.show()"
      ],
      "metadata": {
        "colab": {
          "base_uri": "https://localhost:8080/",
          "height": 449
        },
        "id": "KEp8iH1YgYI5",
        "outputId": "8c2be6f1-b910-4118-ff04-a16d3e37752d"
      },
      "execution_count": 3,
      "outputs": [
        {
          "output_type": "display_data",
          "data": {
            "text/plain": [
              "<Figure size 640x480 with 1 Axes>"
            ],
            "image/png": "[encoded data removed]"
          },
          "metadata": {}
        }
      ]
    },
    {
      "cell_type": "markdown",
      "source": [
        "Steps 1 and 2 of K-Means were about choosing the number of clusters (k) and selecting random centroids for each cluster. We will pick 3 clusters and then select random observations from the data as the centroids:"
      ],
      "metadata": {
        "id": "OtE2eAd4gjMY"
      }
    },
    {
      "cell_type": "code",
      "source": [
        "# Step 1 and 2 - Choose the number of clusters (k) and select random centroid for each cluster\n",
        "\n",
        "#number of clusters\n",
        "K=3\n",
        "\n",
        "# Select random observation as centroids\n",
        "Centroids = (X.sample(n=K))\n",
        "plt.scatter(X[\"ApplicantIncome\"],X[\"LoanAmount\"],c='black')\n",
        "plt.scatter(Centroids[\"ApplicantIncome\"],Centroids[\"LoanAmount\"],c='red')\n",
        "plt.xlabel('AnnualIncome')\n",
        "plt.ylabel('Loan Amount (In Thousands)')\n",
        "plt.show()"
      ],
      "metadata": {
        "colab": {
          "base_uri": "https://localhost:8080/",
          "height": 449
        },
        "id": "GMEFWIVCgkWg",
        "outputId": "e07d338e-0119-4db6-c02d-473ee2f6d6e1"
      },
      "execution_count": 4,
      "outputs": [
        {
          "output_type": "display_data",
          "data": {
            "text/plain": [
              "<Figure size 640x480 with 1 Axes>"
            ],
            "image/png": "[encoded data removed]"
          },
          "metadata": {}
        }
      ]
    },
    {
      "cell_type": "markdown",
      "source": [
        "Here, the red dots represent the 3 centroids for each cluster. Note that we have chosen these points randomly, and hence every time you run this code, you might get different centroids.\n",
        "\n",
        "Next, we will define some conditions to implement the K-Means Clustering algorithm. Let’s first look at the code:"
      ],
      "metadata": {
        "id": "-qQiW6DTgswJ"
      }
    },
    {
      "cell_type": "markdown",
      "source": [
        "1. Initialization"
      ],
      "metadata": {
        "id": "aFx2Lkrgi9ZA"
      }
    },
    {
      "cell_type": "code",
      "source": [
        "diff = 1  # Initialize difference to enter the loop\n",
        "j = 0     # Iteration counter"
      ],
      "metadata": {
        "id": "5cDT_CzXi_hY"
      },
      "execution_count": null,
      "outputs": []
    },
    {
      "cell_type": "markdown",
      "source": [
        "diff is set to 1 to ensure the while loop runs at least once.\n",
        "\n",
        "j keeps track of the number of iterations."
      ],
      "metadata": {
        "id": "mShwNrdPjAXQ"
      }
    },
    {
      "cell_type": "markdown",
      "source": [
        "2. Main Loop (while diff != 0)\n",
        "The loop continues until the centroids stop changing (diff = 0).\n",
        "\n",
        "a. Create a fresh copy of the data"
      ],
      "metadata": {
        "id": "4dlD5QbfjDeY"
      }
    },
    {
      "cell_type": "code",
      "source": [
        "XD = X[[\"ApplicantIncome\", \"LoanAmount\"]].copy()"
      ],
      "metadata": {
        "id": "QJOq-C5CjHDY"
      },
      "execution_count": null,
      "outputs": []
    },
    {
      "cell_type": "markdown",
      "source": [
        "Creates a copy of the relevant columns (ApplicantIncome, LoanAmount) to avoid modifying the original data accidentally."
      ],
      "metadata": {
        "id": "5AMZC1_xjH_Y"
      }
    },
    {
      "cell_type": "markdown",
      "source": [
        "b. Calculate distances to each centroid"
      ],
      "metadata": {
        "id": "KERnGSAzjNIg"
      }
    },
    {
      "cell_type": "code",
      "source": [
        "for i, (_, row_c) in enumerate(Centroids.iterrows(), 1):\n",
        "    X.loc[:, i] = np.sqrt(\n",
        "        (XD[\"ApplicantIncome\"] - row_c[\"ApplicantIncome\"])**2 +\n",
        "        (XD[\"LoanAmount\"] - row_c[\"LoanAmount\"])**2\n",
        "    )"
      ],
      "metadata": {
        "id": "-IG-7nZHjN_A"
      },
      "execution_count": null,
      "outputs": []
    },
    {
      "cell_type": "markdown",
      "source": [
        "enumerate(Centroids.iterrows(), 1):\n",
        "\n",
        "Loops over each centroid (row_c).\n",
        "\n",
        "i is the cluster number (starting from 1).\n",
        "\n",
        "Euclidean distance calculation:\n",
        "\n",
        "Computes the distance from every data point to centroid i.\n",
        "\n",
        "Formula:\n",
        "\n",
        "Distance\n",
        "=....\n",
        "\n",
        "Stores the result in column i of X."
      ],
      "metadata": {
        "id": "cQ1HueqUjUAo"
      }
    },
    {
      "cell_type": "markdown",
      "source": [
        "c. Assign each point to the nearest cluster"
      ],
      "metadata": {
        "id": "lIfOT-CzjfZg"
      }
    },
    {
      "cell_type": "code",
      "source": [
        "distance_cols = [i for i in range(1, K+1)]\n",
        "X.loc[:, \"Cluster\"] = X[distance_cols].idxmin(axis=1)"
      ],
      "metadata": {
        "id": "seTZ795ojhjg"
      },
      "execution_count": null,
      "outputs": []
    },
    {
      "cell_type": "markdown",
      "source": [
        "distance_cols: List of columns containing distances ([1, 2, ..., K]).\n",
        "\n",
        "idxmin(axis=1): Finds the nearest centroid for each row (data point).\n",
        "\n",
        "Updates the \"Cluster\" column with the closest cluster number."
      ],
      "metadata": {
        "id": "_MsUYBqsjjpI"
      }
    },
    {
      "cell_type": "markdown",
      "source": [
        "d. Update centroids\n"
      ],
      "metadata": {
        "id": "50eB4dbkjn1Q"
      }
    },
    {
      "cell_type": "code",
      "source": [
        "Centroids_new = X.groupby(\"Cluster\")[[\"LoanAmount\", \"ApplicantIncome\"]].mean()"
      ],
      "metadata": {
        "id": "Np0iDUaijoOo"
      },
      "execution_count": null,
      "outputs": []
    },
    {
      "cell_type": "markdown",
      "source": [
        "Computes the new centroids by taking the mean of all points in each cluster."
      ],
      "metadata": {
        "id": "4DnSL7ZIjsNg"
      }
    },
    {
      "cell_type": "markdown",
      "source": [
        "e. Check for convergence"
      ],
      "metadata": {
        "id": "kzQ7POt_juSY"
      }
    },
    {
      "cell_type": "code",
      "source": [
        "if j == 0:\n",
        "    diff = 1  # Force at least one more iteration\n",
        "else:\n",
        "    diff = (Centroids_new - Centroids).abs().sum().sum()\n",
        "    print(diff)  # Optional: Track convergence progress"
      ],
      "metadata": {
        "id": "w4oeOcJojvco"
      },
      "execution_count": null,
      "outputs": []
    },
    {
      "cell_type": "markdown",
      "source": [
        "First iteration (j=0) → Forces another iteration.\n",
        "\n",
        "Subsequent iterations → Computes the total difference between old and new centroids.\n",
        "\n",
        "(Centroids_new - Centroids).abs().sum().sum() sums up all absolute differences.\n",
        "\n",
        "If diff = 0, the centroids have stabilized, and the loop exits."
      ],
      "metadata": {
        "id": "XJG0QlRHjxzQ"
      }
    },
    {
      "cell_type": "markdown",
      "source": [
        "f. Update centroids for the next iteration"
      ],
      "metadata": {
        "id": "gkeyrP7VjyqQ"
      }
    },
    {
      "cell_type": "code",
      "source": [
        "Centroids = Centroids_new\n",
        "j += 1"
      ],
      "metadata": {
        "id": "5VKrNF2ij0DY"
      },
      "execution_count": null,
      "outputs": []
    },
    {
      "cell_type": "markdown",
      "source": [
        "Updates Centroids for the next iteration.\n",
        "\n",
        "Increments the iteration counter j."
      ],
      "metadata": {
        "id": "Hn0YE5emj1Eg"
      }
    },
    {
      "cell_type": "code",
      "source": [
        "diff = 1\n",
        "j = 0\n",
        "\n",
        "while diff != 0:\n",
        "    # Create a fresh copy of the data for distance calculations\n",
        "    XD = X[[\"ApplicantIncome\", \"LoanAmount\"]].copy()\n",
        "\n",
        "    # Calculate distances to each centroid\n",
        "    for i, (_, row_c) in enumerate(Centroids.iterrows(), 1):\n",
        "        # Calculate Euclidean distance using vectorized operations\n",
        "        X.loc[:, i] = np.sqrt(\n",
        "            (XD[\"ApplicantIncome\"] - row_c[\"ApplicantIncome\"])**2 +\n",
        "            (XD[\"LoanAmount\"] - row_c[\"LoanAmount\"])**2\n",
        "        )\n",
        "\n",
        "    # Assign to nearest cluster\n",
        "    distance_cols = [i for i in range(1, K+1)]\n",
        "    X.loc[:, \"Cluster\"] = X[distance_cols].idxmin(axis=1)\n",
        "\n",
        "    # Update centroids\n",
        "    Centroids_new = X.groupby(\"Cluster\")[[\"LoanAmount\", \"ApplicantIncome\"]].mean()\n",
        "\n",
        "    # Check convergence\n",
        "    if j == 0:\n",
        "        diff = 1\n",
        "    else:\n",
        "        diff = (Centroids_new - Centroids).abs().sum().sum()\n",
        "        print(diff)\n",
        "\n",
        "    Centroids = Centroids_new\n",
        "    j += 1"
      ],
      "metadata": {
        "colab": {
          "base_uri": "https://localhost:8080/"
        },
        "id": "_ESNf6DkgtPp",
        "outputId": "a39d4c91-2840-4875-9906-5e3f6c288247"
      },
      "execution_count": 7,
      "outputs": [
        {
          "output_type": "stream",
          "name": "stdout",
          "text": [
            "0.0\n"
          ]
        },
        {
          "output_type": "stream",
          "name": "stderr",
          "text": [
            "<ipython-input-7-3a0a5c007c33>:18: FutureWarning: Setting an item of incompatible dtype is deprecated and will raise in a future error of pandas. Value '[1 2 2 3 2 2 2 2 2 1 1 1 1 2 3 2 1 2 1 2 1 2 1 1 2 1 1 1 2 2 1 1 1 3 3 2 1\n",
            " 2 2 1 1 2 2 1 1 2 2 1 2 3 1 2 1 1 1 2 1 1 1 2 1 2 2 1 1 1 2 2 1 2 1 2 3 2\n",
            " 3 2 1 2 1 2 2 1 2 2 1 1 1 1 1 2 2 2 1 3 2 2 2 2 2 3 1 2 2 2 1 1 1 2 1 2 2\n",
            " 1 1 2 2 1 1 1 2 1 2 1 1 1 2 1 2 1 1 3 2 1 2 1 1 1 2 1 2 3 1 2 1 2 2 1 1 1\n",
            " 3 2 3 1 3 3 3 2 2 1 2 3 1 1 2 3 1 1 1 2 2 2 2 1 2 2 1 1 2 2 2 2 1 1 2 1 2\n",
            " 3 1 1 2 2 2 1 2 1 1 2 2 2 2 3 1 1 2 1 2 1 2 1 1 2 1 2 2 3 1 2 2 2 2 2 3 2\n",
            " 1 1 2 1 1 2 3 3 2 1 2 2 1 3 1 2 3 1 3 1 1 2 2 3 2 2 2 1 2 2 1 2 2 2 2 2 1\n",
            " 2 2 1 2 2 2 2 3 2 2 3 2 1 3 2 2 3 3 2 1 2 3 1 1 1 1 1 2 2 1 2 3 1 1 1 3 1\n",
            " 1 3 2 2 1 2 1 2 2 2 2 2 1 2 2 1 1 1 2 1 2 2 2 1 1 1 1 1 2 1 2 2 1 2 2 3 1\n",
            " 2 3 1 1 2 1 2 1 2 1 2 2 1 2 1 2 1 3 2 1 3 1 1 1 2 2 3 2 2 2 2 2 2 2 2 2 2\n",
            " 1 2 2 1 1 2 3 2 2 1 1]' has dtype incompatible with int64, please explicitly cast to a compatible dtype first.\n",
            "  X.loc[:, \"Cluster\"] = X[distance_cols].idxmin(axis=1)\n"
          ]
        }
      ]
    },
    {
      "cell_type": "markdown",
      "source": [
        "**When diff = 0, the algorithm has converged.**"
      ],
      "metadata": {
        "id": "AXFYvClxk_LX"
      }
    },
    {
      "cell_type": "code",
      "source": [
        "color=['blue','green','cyan']\n",
        "for k in range(K):\n",
        "    data=X[X[\"Cluster\"]==k+1]\n",
        "    plt.scatter(data[\"ApplicantIncome\"],data[\"LoanAmount\"],c=color[k])\n",
        "plt.scatter(Centroids[\"ApplicantIncome\"],Centroids[\"LoanAmount\"],c='red')\n",
        "plt.xlabel('Income')\n",
        "plt.ylabel('Loan Amount (In Thousands)')\n",
        "plt.show()"
      ],
      "metadata": {
        "colab": {
          "base_uri": "https://localhost:8080/",
          "height": 449
        },
        "id": "9CV53lSjg4Rh",
        "outputId": "5452df9b-9d23-4e6d-a949-51127ced94c9"
      },
      "execution_count": 8,
      "outputs": [
        {
          "output_type": "display_data",
          "data": {
            "text/plain": [
              "<Figure size 640x480 with 1 Axes>"
            ],
            "image/png": "[encoded data removed]"
          },
          "metadata": {}
        }
      ]
    },
    {
      "cell_type": "markdown",
      "source": [
        "Here, we can clearly visualize three clusters. The red dots represent the centroid of each cluster."
      ],
      "metadata": {
        "id": "BmxwNAQehG94"
      }
    },
    {
      "cell_type": "markdown",
      "source": [
        "Reference: [link text](https://www.analyticsvidhya.com/blog/2019/08/comprehensive-guide-k-means-clustering/)"
      ],
      "metadata": {
        "id": "MLE7b5KMkm7I"
      }
    }
  ]
}
